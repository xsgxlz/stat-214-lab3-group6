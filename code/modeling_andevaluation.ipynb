updated_code = """
# Imports
import numpy as np
import torch
import pickle
import matplotlib.pyplot as plt
from sklearn.linear_model import Ridge
from sklearn.model_selection import KFold

# Load voxel response labels (assume Y_train and Y_test already loaded)

# Load baseline embeddings (BoW, Word2Vec, GloVe already loaded)
embeddings = {
    'BoW': {'X_train': bow_X_train, 'X_test': bow_X_test},
    'Word2Vec': {'X_train': w2v_X_train, 'X_test': w2v_X_test},
    'GloVe': {'X_train': glove_X_train, 'X_test': glove_X_test},
}

# === NEW: Load BERT-based embeddings ===
bert_X_train = torch.load('bert_X_train.pt').numpy()
bert_X_test = torch.load('bert_X_test.pt').numpy()

embeddings['BERT'] = {
    'X_train': bert_X_train,
    'X_test': bert_X_test
}

# Set up RidgeCV hyperparameters
alpha_values = [0.1, 1, 10, 100, 1000]
kf = KFold(n_splits=5, shuffle=True, random_state=214)

cv_results = {}

# Train Ridge models for each embedding method
for emb_name, data in embeddings.items():
    print(f"\\nEvaluating embedding method: {emb_name}")
    X_train = data['X_train']
    cv_results[emb_name] = {}

    for alpha in alpha_values:
        fold_metrics = {'mean_cc': [], 'median_cc': [], 'top1_cc': [], 'top5_cc': []}
        for train_idx, val_idx in kf.split(X_train):
            X_cv_train, X_cv_val = X_train[train_idx], X_train[val_idx]
            Y_cv_train, Y_cv_val = Y_train[train_idx], Y_train[val_idx]

            model = Ridge(alpha=alpha)
            model.fit(X_cv_train, Y_cv_train)
            Y_cv_pred = model.predict(X_cv_val)

            # Compute correlation coefficient per voxel
            cc = voxel_correlation(Y_cv_val, Y_cv_pred)
            fold_metrics['mean_cc'].append(np.mean(cc))
            fold_metrics['median_cc'].append(np.median(cc))
            fold_metrics['top1_cc'].append(np.percentile(cc, 99))
            fold_metrics['top5_cc'].append(np.percentile(cc, 95))

        avg_mean_cc = np.mean(fold_metrics['mean_cc'])
        avg_median_cc = np.mean(fold_metrics['median_cc'])
        avg_top1_cc = np.mean(fold_metrics['top1_cc'])
        avg_top5_cc = np.mean(fold_metrics['top5_cc'])

        cv_results[emb_name][alpha] = {
            'mean_cc': avg_mean_cc,
            'median_cc': avg_median_cc,
            'top1_cc': avg_top1_cc,
            'top5_cc': avg_top5_cc
        }

        print(f"  Alpha: {alpha:>6} | Mean CC: {avg_mean_cc:.4f} | Median CC: {avg_median_cc:.4f} | Top1 CC: {avg_top1_cc:.4f} | Top5 CC: {avg_top5_cc:.4f}")

    best_alpha = max(alpha_values, key=lambda a: cv_results[emb_name][a]['mean_cc'])
    cv_results[emb_name]['best_alpha'] = best_alpha
    print(f"Best alpha for {emb_name}: {best_alpha} (Mean CV CC = {cv_results[emb_name][best_alpha]['mean_cc']:.4f})")

# Find the best embedding method overall
best_embedding_method = None
overall_best_mean_cc = -np.inf

for emb_name in embeddings.keys():
    best_alpha = cv_results[emb_name]['best_alpha']
    mean_cv_cc = cv_results[emb_name][best_alpha]['mean_cc']
    if mean_cv_cc > overall_best_mean_cc:
        overall_best_mean_cc = mean_cv_cc
        best_embedding_method = emb_name

print(f"\\nBest overall embedding method: {best_embedding_method} (Mean CV CC = {overall_best_mean_cc:.4f})")

# Train final Ridge model on full training set using best embedding
best_alpha = cv_results[best_embedding_method]['best_alpha']
print(f"Training final Ridge model with alpha={best_alpha} for {best_embedding_method}")

final_model = Ridge(alpha=best_alpha)
X_train_best = embeddings[best_embedding_method]['X_train']
final_model.fit(X_train_best, Y_train)

# Evaluate on test set
X_test_best = embeddings[best_embedding_method]['X_test']
Y_test_pred = final_model.predict(X_test_best)
cc_test = voxel_correlation(Y_test, Y_test_pred)

# Print test performance
test_mean_cc = np.mean(cc_test)
test_median_cc = np.median(cc_test)
test_top1_cc = np.percentile(cc_test, 99)
test_top5_cc = np.percentile(cc_test, 95)

print("\\nFinal Test Set Performance:")
print(f"  Mean CC:             {test_mean_cc:.4f}")
print(f"  Median CC:           {test_median_cc:.4f}")
print(f"  Top 1 Percentile CC: {test_top1_cc:.4f}")
print(f"  Top 5 Percentile CC: {test_top5_cc:.4f}")

# Plot histogram of voxel-wise CCs
plt.figure(figsize=(8,6))
plt.hist(cc_test, bins=50, edgecolor='black')
plt.title('Distribution of Voxel-wise Correlation Coefficients (Test Set)')
plt.xlabel('Correlation Coefficient')
plt.ylabel('Number of Voxels')
plt.grid(True)
plt.show()

# Save final model
model_filename = 'final_ridge_model.pkl'
with open(model_filename, 'wb') as f:
    pickle.dump(final_model, f)

print(f"Final model saved to '{model_filename}'")
"""



