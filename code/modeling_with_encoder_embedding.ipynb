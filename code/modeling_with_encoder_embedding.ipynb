{
 "cells": [
  {
   "cell_type": "code",
   "execution_count": 1,
   "id": "bf44e447",
   "metadata": {},
   "outputs": [],
   "source": [
    "import os\n",
    "os.environ['PYTORCH_CUDA_ALLOC_CONF'] = 'expandable_segments:True'\n",
    "\n",
    "import sys\n",
    "import pickle\n",
    "import time\n",
    "\n",
    "import numpy as np\n",
    "import torch\n",
    "from sklearn.model_selection import train_test_split\n",
    "from transformers import BertTokenizerFast, BertModel\n",
    "import matplotlib.pyplot as plt\n",
    "\n",
    "sys.path.append('code')\n",
    "sys.path.append(\"/jet/home/azhang19/stat 214/stat-214-lab3-group6/code\")\n",
    "\n",
    "from preprocessing import downsample_word_vectors, make_delayed\n",
    "\n",
    "torch.set_float32_matmul_precision(\"high\")\n",
    "device = \"cuda\" if torch.cuda.is_available() else \"cpu\"\n",
    "\n",
    "# Define the base path for data access\n",
    "data_path = '/ocean/projects/mth240012p/shared/data' # Path where data files are stored\n",
    "ckpt_path = '/ocean/projects/mth240012p/chidamba/ckpts/'"
   ]
  },
  {
   "cell_type": "code",
   "execution_count": 2,
   "id": "3710769a",
   "metadata": {},
   "outputs": [],
   "source": [
    "# %% Load preprocessed word sequences (likely includes words and their timings)\n",
    "with open(f'{data_path}/raw_text.pkl', 'rb') as file:\n",
    "    wordseqs = pickle.load(file) # wordseqs is expected to be a dictionary: {story_id: WordSequenceObject}\n",
    "\n",
    "# %% Get list of story identifiers and split into training and testing sets\n",
    "# Assumes story data for 'subject2' exists and filenames are story IDs + '.npy'\n",
    "stories = [i[:-4] for i in os.listdir(f'{data_path}/subject2')] # Extract story IDs from filenames\n",
    "# Split stories into train and test sets with a fixed random state for reproducibility\n",
    "\n",
    "\n",
    "# First, use 60% for training and 40% for the remaining data.\n",
    "train_stories, temp_stories = train_test_split(stories, train_size=0.6, random_state=214)\n",
    "# Then split the remaining 40% equally to get 20% validation and 20% test.\n",
    "val_stories, test_stories = train_test_split(temp_stories, train_size=0.5, random_state=214)\n",
    "\n",
    "#train, test = train[:10], test[:10] # For testing purposes, limit to first 10 stories in each set"
   ]
  },
  {
   "cell_type": "code",
   "execution_count": 3,
   "id": "c90890b0",
   "metadata": {},
   "outputs": [],
   "source": [
    "dim = 32 # [32, 64]\n",
    "mlm_prob = 0.15 # [0.1, 0.15, 0.2]\n",
    "epochs = 1000 # [0, 100, 200, 300, 400, 500, 600, 700, 800, 900, 1000]\n",
    "filename = f\"dim{dim}_mlm{mlm_prob}_epoch{epochs}.pth\"\n",
    "model, record = torch.load(f\"{ckpt_path}/{filename}\", weights_only=False, map_location=device)\n",
    "model = model.to(device).eval()\n",
    "\n",
    "trim_range = (5, -10)\n",
    "delays = True\n",
    "delay_range = [0, 1, 2] # Includes 0, 1, 2"
   ]
  },
  {
   "cell_type": "code",
   "execution_count": null,
   "id": "e6a2bf1f",
   "metadata": {},
   "outputs": [],
   "source": [
    "tokenizer = BertTokenizerFast.from_pretrained(\"bert-base-uncased\")\n",
    "embeddings = {}\n",
    "\n",
    "# Extract BERT embeddings for each story\n",
    "for story in stories:\n",
    "    words = wordseqs[story].data\n",
    "    tokens = tokenizer(words, add_special_tokens=False, truncation=False,max_length=sys.maxsize)['input_ids']\n",
    "    token_tensor = torch.tensor(sum(tokens, []), device=device).unsqueeze(0)\n",
    "    token_per_word = [len(i) for i in tokens]\n",
    "    with torch.inference_mode():\n",
    "        output = model(token_tensor,\n",
    "                    attn_mask=torch.ones_like(token_tensor, device=device, dtype=torch.bool), classification=False)\n",
    "        output = output.squeeze(0)\n",
    "    start = 0\n",
    "    word_embeddings = []\n",
    "    for i in token_per_word:\n",
    "        end = start + i\n",
    "        if i != 0:\n",
    "            word_embedding = output[start:end].mean(dim=0)\n",
    "        else:\n",
    "            word_embedding = torch.zeros(output.size(1), device=device)\n",
    "\n",
    "        word_embeddings.append(word_embedding)\n",
    "        start = end\n",
    "    embeddings[story] = torch.stack(word_embeddings).cpu().numpy()\n",
    "    \n",
    "story_embeddings = downsample_word_vectors(stories, embeddings, wordseqs)\n",
    "\n",
    "for story in stories:\n",
    "    if delays:\n",
    "        story_embeddings[story] = make_delayed(story_embeddings[story], delay_range)\n",
    "    story_embeddings[story] = story_embeddings[story][trim_range[0]:trim_range[1]]"
   ]
  },
  {
   "cell_type": "code",
   "execution_count": 5,
   "id": "8658dcf4",
   "metadata": {},
   "outputs": [],
   "source": [
    "def aggregate_embeddings(story_embeddings, stories):\n",
    "    \"\"\"\n",
    "    Aggregate the embeddings of the stories into a single tensor.\n",
    "    \"\"\"\n",
    "    all_embeddings = []\n",
    "    for story in stories:\n",
    "        all_embeddings.append(story_embeddings[story])\n",
    "    return np.concatenate(all_embeddings, axis=0)\n",
    "\n",
    "X_train = aggregate_embeddings(story_embeddings, train_stories)\n",
    "X_val = aggregate_embeddings(story_embeddings, val_stories)\n",
    "X_test = aggregate_embeddings(story_embeddings, test_stories)"
   ]
  },
  {
   "cell_type": "code",
   "execution_count": 6,
   "id": "2bd7b343",
   "metadata": {},
   "outputs": [],
   "source": [
    "# %% Define a function to load fMRI data for specified stories and subjects\n",
    "def load_fmri_data(stories, data_path):\n",
    "    \"\"\"\n",
    "    Loads fMRI data (.npy files) for given stories and subjects.\n",
    "\n",
    "    Args:\n",
    "        stories (list): List of story identifiers to load fMRI data for.\n",
    "        data_path (str): Base path where subject fMRI data is stored (e.g., data_path/subject_id/story_id.npy).\n",
    "\n",
    "    Returns:\n",
    "        dict: A nested dictionary `{subject_id: {story_id: fmri_data_array}}`.\n",
    "    \"\"\"\n",
    "    subjects = ['subject2', 'subject3'] # List of subjects to load data for\n",
    "    fmri_data = {} # Outer dictionary {subject: {story: data}}\n",
    "    for subject in subjects:\n",
    "        subject_dict = {} # Inner dictionary {story: data} for the current subject\n",
    "        for story in stories:\n",
    "            # Construct the full path to the fMRI data file\n",
    "            file_path = os.path.join(data_path, subject, f'{story}.npy')\n",
    "            # Load the NumPy array from the file\n",
    "            data = np.load(file_path)\n",
    "            subject_dict[story] = data # Store data in the inner dictionary\n",
    "        fmri_data[subject] = subject_dict # Store the subject's data dictionary\n",
    "    return fmri_data"
   ]
  },
  {
   "cell_type": "code",
   "execution_count": 7,
   "id": "1bdc76b4",
   "metadata": {},
   "outputs": [],
   "source": [
    "fmri_data = load_fmri_data(stories, data_path)"
   ]
  },
  {
   "cell_type": "code",
   "execution_count": 18,
   "id": "84de15a9",
   "metadata": {},
   "outputs": [
    {
     "name": "stdout",
     "output_type": "stream",
     "text": [
      "fMRI Data Shapes for subject2:\n",
      "  Y_train: (20263, 94251)\n",
      "  Y_val: (7064, 94251)\n",
      "  Y_test: (7459, 94251)\n"
     ]
    }
   ],
   "source": [
    "def get_fmri_data(stories, fmri_data):\n",
    "    \"\"\"\n",
    "    Concatenates fMRI data across specified stories for each subject.\n",
    "    Returns a dictionary: {subject: concatenated_fmri_array}.\n",
    "    \"\"\"\n",
    "    out_dict = {}\n",
    "    for subj in fmri_data.keys():\n",
    "        concatenated = np.concatenate(\n",
    "            [fmri_data[subj][st] for st in stories], axis=0\n",
    "        )\n",
    "        out_dict[subj] = concatenated\n",
    "    return out_dict\n",
    "\n",
    "# Get concatenated fMRI responses per subject for each split.\n",
    "fmri_train = get_fmri_data(train_stories, fmri_data)\n",
    "fmri_val   = get_fmri_data(val_stories, fmri_data)\n",
    "fmri_test  = get_fmri_data(test_stories, fmri_data)\n",
    "\n",
    "def pad_nan_to_mean(data):\n",
    "    \"\"\"Replace NaN values in a NumPy array with the overall mean of the non-NaN values.\"\"\"\n",
    "    mean_val = np.nanmean(data)\n",
    "    return np.nan_to_num(data, nan=mean_val)\n",
    "\n",
    "# Apply NaN padding to fMRI data for each subject and split.\n",
    "for subj in fmri_train:\n",
    "    fmri_train[subj] = pad_nan_to_mean(fmri_train[subj])\n",
    "for subj in fmri_val:\n",
    "    fmri_val[subj] = pad_nan_to_mean(fmri_val[subj])\n",
    "for subj in fmri_test:\n",
    "    fmri_test[subj] = pad_nan_to_mean(fmri_test[subj])\n",
    "\n",
    "# For modeling, we select one subject's data (e.g., subject2)\n",
    "Y_train = fmri_train['subject2']  # fMRI responses for training\n",
    "Y_val   = fmri_val['subject2']    # validation responses\n",
    "Y_test  = fmri_test['subject2']   # test responses\n",
    "\n",
    "print(\"fMRI Data Shapes for subject2:\")\n",
    "print(\"  Y_train:\", Y_train.shape)\n",
    "print(\"  Y_val:\", Y_val.shape)\n",
    "print(\"  Y_test:\", Y_test.shape)"
   ]
  },
  {
   "cell_type": "code",
   "execution_count": 9,
   "id": "2d7da28c-5c73-423a-81ba-0bf10b3837a5",
   "metadata": {},
   "outputs": [
    {
     "name": "stderr",
     "output_type": "stream",
     "text": [
      "huggingface/tokenizers: The current process just got forked, after parallelism has already been used. Disabling parallelism to avoid deadlocks...\n",
      "To disable this warning, you can either:\n",
      "\t- Avoid using `tokenizers` before the fork if possible\n",
      "\t- Explicitly set the environment variable TOKENIZERS_PARALLELISM=(true | false)\n"
     ]
    },
    {
     "name": "stdout",
     "output_type": "stream",
     "text": [
      "Defaulting to user installation because normal site-packages is not writeable\n",
      "Requirement already satisfied: staticvectors in ./.local/lib/python3.12/site-packages (0.2.0)\n",
      "Requirement already satisfied: huggingface-hub>=0.19.0 in ./.local/lib/python3.12/site-packages (from staticvectors) (0.30.2)\n",
      "Requirement already satisfied: numpy>=1.18.4 in /opt/packages/anaconda3-2024.10-1/lib/python3.12/site-packages (from staticvectors) (1.26.4)\n",
      "Requirement already satisfied: safetensors>=0.4.5 in ./.local/lib/python3.12/site-packages (from staticvectors) (0.5.3)\n",
      "Requirement already satisfied: tqdm>=4.48.0 in /opt/packages/anaconda3-2024.10-1/lib/python3.12/site-packages (from staticvectors) (4.66.5)\n",
      "Requirement already satisfied: filelock in /opt/packages/anaconda3-2024.10-1/lib/python3.12/site-packages (from huggingface-hub>=0.19.0->staticvectors) (3.13.1)\n",
      "Requirement already satisfied: fsspec>=2023.5.0 in /opt/packages/anaconda3-2024.10-1/lib/python3.12/site-packages (from huggingface-hub>=0.19.0->staticvectors) (2024.6.1)\n",
      "Requirement already satisfied: packaging>=20.9 in /opt/packages/anaconda3-2024.10-1/lib/python3.12/site-packages (from huggingface-hub>=0.19.0->staticvectors) (24.1)\n",
      "Requirement already satisfied: pyyaml>=5.1 in /opt/packages/anaconda3-2024.10-1/lib/python3.12/site-packages (from huggingface-hub>=0.19.0->staticvectors) (6.0.1)\n",
      "Requirement already satisfied: requests in /opt/packages/anaconda3-2024.10-1/lib/python3.12/site-packages (from huggingface-hub>=0.19.0->staticvectors) (2.32.3)\n",
      "Requirement already satisfied: typing-extensions>=3.7.4.3 in ./.local/lib/python3.12/site-packages (from huggingface-hub>=0.19.0->staticvectors) (4.12.2)\n",
      "Requirement already satisfied: charset-normalizer<4,>=2 in /opt/packages/anaconda3-2024.10-1/lib/python3.12/site-packages (from requests->huggingface-hub>=0.19.0->staticvectors) (3.3.2)\n",
      "Requirement already satisfied: idna<4,>=2.5 in /opt/packages/anaconda3-2024.10-1/lib/python3.12/site-packages (from requests->huggingface-hub>=0.19.0->staticvectors) (3.7)\n",
      "Requirement already satisfied: urllib3<3,>=1.21.1 in /opt/packages/anaconda3-2024.10-1/lib/python3.12/site-packages (from requests->huggingface-hub>=0.19.0->staticvectors) (2.2.3)\n",
      "Requirement already satisfied: certifi>=2017.4.17 in /opt/packages/anaconda3-2024.10-1/lib/python3.12/site-packages (from requests->huggingface-hub>=0.19.0->staticvectors) (2024.8.30)\n"
     ]
    }
   ],
   "source": [
    "!pip install staticvectors"
   ]
  },
  {
   "cell_type": "code",
   "execution_count": 10,
   "id": "ad48018b-5d50-458a-ae5f-721edb689d79",
   "metadata": {},
   "outputs": [],
   "source": [
    "import os\n",
    "import sys\n",
    "import pickle\n",
    "\n",
    "import numpy as np\n",
    "from sklearn.model_selection import train_test_split\n",
    "import sklearn.preprocessing # For StandardScaler\n",
    "import sklearn.decomposition # For PCA\n",
    "import matplotlib.pyplot as plt\n",
    "from staticvectors import StaticVectors # Already imported above\n",
    "\n",
    "sys.path.append('code')\n",
    "sys.path.append(\"/jet/home/azhang19/stat 214/stat-214-lab3-group6/code\")\n",
    "\n",
    "import word_embedding # Imports the classes defined above if they are in word_embedding.py\n",
    "\n",
    "# Define the base path for data access\n",
    "data_path = '/ocean/projects/mth240012p/shared/data' # Path where data files are stored"
   ]
  },
  {
   "cell_type": "code",
   "execution_count": 15,
   "id": "2fe9f593-89de-4b1d-a3aa-74b8f6e80c98",
   "metadata": {},
   "outputs": [],
   "source": [
    "class SafeStaticVectorsModel(word_embedding.StaticVectorsModel):\n",
    "    \"\"\"\n",
    "    A safe wrapper around StaticVectorsModel that returns a zero vector\n",
    "    for tokens not found in the pre-trained vocabulary to avoid negative seed errors.\n",
    "    \"\"\"\n",
    "    def transform(self, text):\n",
    "        \"\"\"\n",
    "        Transforms a list of words into a matrix of word embeddings.\n",
    "        For unknown words (not in the vocabulary), returns a zero vector.\n",
    "        \n",
    "        Args:\n",
    "            text (list): A list of tokens (words).\n",
    "        \n",
    "        Returns:\n",
    "            np.ndarray: A 2D array with one row per token.\n",
    "        \"\"\"\n",
    "        embeddings_list = []\n",
    "        # Loop over tokens in the text\n",
    "        for token in text:\n",
    "            # Check if token exists in the pre-trained model's tokens dictionary\n",
    "            if token in self.model.tokens:\n",
    "                # Retrieve the embedding; self.model.embeddings() returns an array of shape (1, dim)\n",
    "                emb = self.model.embeddings([token])\n",
    "                embeddings_list.append(emb[0])\n",
    "            else:\n",
    "                # If token is unknown, return a zero vector (avoid calling generate() which can yield a negative seed)\n",
    "                dim = self.model.config[\"dim\"]\n",
    "                embeddings_list.append(np.zeros(dim))\n",
    "        return np.array(embeddings_list)"
   ]
  },
  {
   "cell_type": "code",
   "execution_count": 16,
   "id": "55fbffc1-b98e-4dbb-b8fe-177a23d97bcf",
   "metadata": {},
   "outputs": [],
   "source": [
    "import numpy as np\n",
    "from scipy.stats import pearsonr\n",
    "\n",
    "def voxel_correlation(y_true, y_pred):\n",
    "    \"\"\"\n",
    "    Computes voxel-wise Pearson correlation coefficients.\n",
    "    \n",
    "    Args:\n",
    "        y_true (np.ndarray): True fMRI responses (the dim is [n_timepoints, n_voxels])\n",
    "        y_pred (np.ndarray): Predicted fMRI responses\n",
    "        \n",
    "    Return:\n",
    "        np.ndarray: 1D array with the correlation coefficient for each voxel.\n",
    "    \"\"\"\n",
    "    n_voxels = y_true.shape[1]\n",
    "    cc = np.zeros(n_voxels)\n",
    "    for v in range(n_voxels):\n",
    "        #avoid division by 0\n",
    "        if np.std(y_true[:, v]) < 1e-6 or np.std(y_pred[:, v]) < 1e-6:\n",
    "            cc[v] = 0\n",
    "        else:\n",
    "            cc[v] = pearsonr(y_true[:, v], y_pred[:, v])[0]\n",
    "    return cc\n",
    "\n",
    "embeddings = {\n",
    "    'bert': {'X_train': X_train, 'X_val': X_val, 'X_test': X_test},\n",
    "}\n"
   ]
  },
  {
   "cell_type": "code",
   "execution_count": 19,
   "id": "06d36610-f07b-4540-ab30-54fa99a32938",
   "metadata": {},
   "outputs": [
    {
     "name": "stdout",
     "output_type": "stream",
     "text": [
      "\n",
      "Evaluating embedding method: bert\n",
      "  Alpha:    0.1 | Mean CC: -0.0055 | Median CC: -0.0060 | Top1 CC: 0.0382 | Top5 CC: 0.0233\n",
      "  Alpha:      1 | Mean CC: -0.0055 | Median CC: -0.0060 | Top1 CC: 0.0382 | Top5 CC: 0.0233\n",
      "  Alpha:     10 | Mean CC: -0.0055 | Median CC: -0.0060 | Top1 CC: 0.0382 | Top5 CC: 0.0233\n",
      "  Alpha:    100 | Mean CC: -0.0055 | Median CC: -0.0059 | Top1 CC: 0.0383 | Top5 CC: 0.0234\n",
      "  Alpha:   1000 | Mean CC: -0.0052 | Median CC: -0.0058 | Top1 CC: 0.0393 | Top5 CC: 0.0240\n",
      "Best alpha for bert: 1000 (Mean CV CC = -0.0052)\n"
     ]
    }
   ],
   "source": [
    "from sklearn.linear_model import Ridge\n",
    "from sklearn.model_selection import KFold\n",
    "\n",
    "#regularization hyperparameter values to test\n",
    "alpha_values = [0.1, 1, 10, 100, 1000]\n",
    "\n",
    "#kfold cv\n",
    "kf = KFold(n_splits=5, shuffle=True, random_state=214)\n",
    "\n",
    "cv_results = {}\n",
    "\n",
    "for emb_name, data in embeddings.items():\n",
    "    print(f\"\\nEvaluating embedding method: {emb_name}\")\n",
    "    #use embedding\n",
    "    X_train = data['X_train']\n",
    "    cv_results[emb_name] = {}\n",
    "\n",
    "    for alpha in alpha_values:\n",
    "        fold_metrics = {'mean_cc': [], 'median_cc': [], 'top1_cc': [], 'top5_cc': []}\n",
    "        for train_idx, val_idx in kf.split(X_train):\n",
    "            X_cv_train, X_cv_val = X_train[train_idx], X_train[val_idx]\n",
    "            Y_cv_train, Y_cv_val = Y_train[train_idx], Y_train[val_idx]\n",
    "            \n",
    "            #fit model\n",
    "            model = Ridge(alpha=alpha)\n",
    "            model.fit(X_cv_train, Y_cv_train)\n",
    "            Y_cv_pred = model.predict(X_cv_val)\n",
    "            \n",
    "            #cc\n",
    "            cc = voxel_correlation(Y_cv_val, Y_cv_pred)\n",
    "            fold_metrics['mean_cc'].append(np.mean(cc))\n",
    "            fold_metrics['median_cc'].append(np.median(cc))\n",
    "            fold_metrics['top1_cc'].append(np.percentile(cc, 99))\n",
    "            fold_metrics['top5_cc'].append(np.percentile(cc, 95))\n",
    "        \n",
    "        avg_mean_cc = np.mean(fold_metrics['mean_cc'])\n",
    "        avg_median_cc = np.mean(fold_metrics['median_cc'])\n",
    "        avg_top1_cc = np.mean(fold_metrics['top1_cc'])\n",
    "        avg_top5_cc = np.mean(fold_metrics['top5_cc'])\n",
    "        \n",
    "        cv_results[emb_name][alpha] = {\n",
    "            'mean_cc': avg_mean_cc,\n",
    "            'median_cc': avg_median_cc,\n",
    "            'top1_cc': avg_top1_cc,\n",
    "            'top5_cc': avg_top5_cc\n",
    "        }\n",
    "        \n",
    "        print(f\"  Alpha: {alpha:>6} | Mean CC: {avg_mean_cc:.4f} | Median CC: {avg_median_cc:.4f} | Top1 CC: {avg_top1_cc:.4f} | Top5 CC: {avg_top5_cc:.4f}\")\n",
    "    \n",
    "    #best alpha is based on highest mean CC.\n",
    "    best_alpha = max(alpha_values, key=lambda a: cv_results[emb_name][a]['mean_cc'])\n",
    "    cv_results[emb_name]['best_alpha'] = best_alpha\n",
    "    print(f\"Best alpha for {emb_name}: {best_alpha} (Mean CV CC = {cv_results[emb_name][best_alpha]['mean_cc']:.4f})\")"
   ]
  },
  {
   "cell_type": "code",
   "execution_count": 20,
   "id": "49791fb2-fd43-41ad-b01c-e9c38c2bf021",
   "metadata": {},
   "outputs": [
    {
     "name": "stdout",
     "output_type": "stream",
     "text": [
      "Training final Ridge model with alpha=1000 for bert\n",
      "\n",
      "Final Test Set Performance:\n",
      "  Mean CC:       0.0060\n",
      "  Median CC:     0.0053\n",
      "  Top 1 Percentile CC: 0.0416\n",
      "  Top 5 Percentile CC: 0.0290\n"
     ]
    }
   ],
   "source": [
    "#get best result\n",
    "best_embedding_method = 'bert'\n",
    "\n",
    "\n",
    "#train final model on the full training set\n",
    "best_alpha = cv_results[best_embedding_method]['best_alpha']\n",
    "print(f\"Training final Ridge model with alpha={best_alpha} for {best_embedding_method}\")\n",
    "\n",
    "final_model = Ridge(alpha=best_alpha)\n",
    "X_train_best = embeddings[best_embedding_method]['X_train']\n",
    "final_model.fit(X_train_best, Y_train)\n",
    "\n",
    "#test set performance\n",
    "X_test_best = embeddings[best_embedding_method]['X_test']\n",
    "Y_test_pred = final_model.predict(X_test_best)\n",
    "cc_test = voxel_correlation(Y_test, Y_test_pred)\n",
    "\n",
    "test_mean_cc = np.mean(cc_test)\n",
    "test_median_cc = np.median(cc_test)\n",
    "test_top1_cc = np.percentile(cc_test, 99)\n",
    "test_top5_cc = np.percentile(cc_test, 95)\n",
    "\n",
    "print(\"\\nFinal Test Set Performance:\")\n",
    "print(f\"  Mean CC:       {test_mean_cc:.4f}\")\n",
    "print(f\"  Median CC:     {test_median_cc:.4f}\")\n",
    "print(f\"  Top 1 Percentile CC: {test_top1_cc:.4f}\")\n",
    "print(f\"  Top 5 Percentile CC: {test_top5_cc:.4f}\")\n",
    "\n",
    "# #save model\n",
    "# import pickle\n",
    "\n",
    "# model_filename = 'final_ridge_model.pkl'\n",
    "# with open(model_filename, 'wb') as f:\n",
    "#     pickle.dump(final_model, f)\n",
    "\n",
    "# print(f\"Final model saved to '{model_filename}'\")\n"
   ]
  },
  {
   "cell_type": "code",
   "execution_count": 21,
   "id": "f0122e6d-ff71-4cf7-8157-b9545156c40d",
   "metadata": {},
   "outputs": [
    {
     "data": {
      "image/png": "[encoded data removed]",
      "text/plain": [
       "<Figure size 800x600 with 1 Axes>"
      ]
     },
     "metadata": {},
     "output_type": "display_data"
    }
   ],
   "source": [
    "import matplotlib.pyplot as plt\n",
    "\n",
    "plt.figure(figsize=(8, 6))\n",
    "plt.hist(cc_test, bins=50, edgecolor='black', alpha=0.7)\n",
    "plt.title(\"Distribution of Voxel-wise Test CCs (BoW)\")\n",
    "plt.xlabel(\"Correlation Coefficient (CC)\")\n",
    "plt.ylabel(\"Number of Voxels\")\n",
    "plt.grid(True)\n",
    "plt.show()\n"
   ]
  },
  {
   "cell_type": "code",
   "execution_count": 22,
   "id": "413cd7c6-2003-4fda-8776-64cc1ae76fc4",
   "metadata": {},
   "outputs": [],
   "source": [
    "# model_filename = 'final_ridge_model.pkl'\n",
    "# with open(model_filename, 'rb') as f:\n",
    "#     loaded_model = pickle.load(f)\n",
    "    \n",
    "# print(f\"Model loaded from '{model_filename}'\")"
   ]
  },
  {
   "cell_type": "code",
   "execution_count": 23,
   "id": "37e316dd-11b9-4baa-a403-c874fc9e7e48",
   "metadata": {},
   "outputs": [],
   "source": [
    "# #test preds\n",
    "# X_test_best = embeddings['BoW']['X_test']\n",
    "# Y_test_pred = loaded_model.predict(X_test_best)\n",
    "\n",
    "#voxel wise CC\n",
    "cc_test = voxel_correlation(Y_test, Y_test_pred)"
   ]
  },
  {
   "cell_type": "code",
   "execution_count": 31,
   "id": "70fdae70-ed91-40a3-8239-9d398c4c0038",
   "metadata": {},
   "outputs": [
    {
     "data": {
      "image/png": "[encoded data removed]",
      "text/plain": [
       "<Figure size 600x800 with 1 Axes>"
      ]
     },
     "metadata": {},
     "output_type": "display_data"
    },
    {
     "data": {
      "text/plain": [
       "<Figure size 640x480 with 0 Axes>"
      ]
     },
     "metadata": {},
     "output_type": "display_data"
    }
   ],
   "source": [
    "#dist of CC across voxels\n",
    "plt.figure(figsize=(6, 8))\n",
    "plt.boxplot(cc_test, vert=True, patch_artist=True)\n",
    "plt.title(\"Distribution of CC Across Voxels [Encoder Embeddings] - Subject 2\")\n",
    "plt.ylabel(\"Correlation Coefficient (CC)\")\n",
    "plt.xticks([1], ['Voxels'])\n",
    "plt.grid(True)\n",
    "plt.show()\n",
    "plt.savefig('encoder_subj2_cc_dist.png')"
   ]
  },
  {
   "cell_type": "markdown",
   "id": "013c6e2b-e204-4c78-bcdc-7ad6d7e0c6c4",
   "metadata": {},
   "source": [
    "## Subject 3 Modeling"
   ]
  },
  {
   "cell_type": "code",
   "execution_count": 26,
   "id": "e7568cb6-bab8-4e10-aeb3-e60e6fd3bb42",
   "metadata": {},
   "outputs": [
    {
     "name": "stdout",
     "output_type": "stream",
     "text": [
      "Using best alpha = 1000 for subject3 model training based on previous CV results.\n",
      "Final model for subject3 trained.\n",
      "\n",
      "Subject 3 Final Test Set Performance:\n",
      "  Mean CC:             0.0114\n",
      "  Median CC:           0.0093\n",
      "  Top 1 Percentile CC: 0.0681\n",
      "  Top 5 Percentile CC: 0.0426\n"
     ]
    }
   ],
   "source": [
    "best_embedding_method = \"bert\"\n",
    "best_alpha = 1000\n",
    "\n",
    "print(f\"Using best alpha = {best_alpha} for subject3 model training based on previous CV results.\")\n",
    "\n",
    "X_train_best = embeddings[best_embedding_method]['X_train']\n",
    "\n",
    "#subject 3 training set\n",
    "Y_train_subject3 = fmri_train['subject3']\n",
    "\n",
    "#train Ridge model for subject 3 (separate from subject 2)\n",
    "final_model_subj3 = Ridge(alpha=best_alpha)\n",
    "final_model_subj3.fit(X_train_best, Y_train_subject3)\n",
    "print(\"Final model for subject3 trained.\")\n",
    "\n",
    "X_test_best = embeddings[best_embedding_method]['X_test']\n",
    "Y_test_subject3 = fmri_test['subject3']\n",
    "Y_test_pred_subj3 = final_model_subj3.predict(X_test_best)\n",
    "\n",
    "#voxel wise CC\n",
    "cc_test_subj3 = voxel_correlation(Y_test_subject3, Y_test_pred_subj3)\n",
    "\n",
    "test_mean_cc_subj3   = np.mean(cc_test_subj3)\n",
    "test_median_cc_subj3 = np.median(cc_test_subj3)\n",
    "test_top1_cc_subj3   = np.percentile(cc_test_subj3, 99)\n",
    "test_top5_cc_subj3   = np.percentile(cc_test_subj3, 95)\n",
    "\n",
    "print(\"\\nSubject 3 Final Test Set Performance:\")\n",
    "print(f\"  Mean CC:             {test_mean_cc_subj3:.4f}\")\n",
    "print(f\"  Median CC:           {test_median_cc_subj3:.4f}\")\n",
    "print(f\"  Top 1 Percentile CC: {test_top1_cc_subj3:.4f}\")\n",
    "print(f\"  Top 5 Percentile CC: {test_top5_cc_subj3:.4f}\")\n",
    "\n",
    "# #save the model for subject3\n",
    "# model_filename_subj3 = 'final_ridge_model_subject3.pkl'\n",
    "# with open(model_filename_subj3, 'wb') as f:\n",
    "#     pickle.dump(final_model_subj3, f)\n",
    "# print(f\"Subject 3 final model saved to '{model_filename_subj3}'\")\n"
   ]
  },
  {
   "cell_type": "code",
   "execution_count": 32,
   "id": "843dea9b-b3d1-48b4-ae1a-f91aba360a1a",
   "metadata": {},
   "outputs": [
    {
     "data": {
      "image/png": "[encoded data removed]",
      "text/plain": [
       "<Figure size 600x800 with 1 Axes>"
      ]
     },
     "metadata": {},
     "output_type": "display_data"
    },
    {
     "data": {
      "text/plain": [
       "<Figure size 640x480 with 0 Axes>"
      ]
     },
     "metadata": {},
     "output_type": "display_data"
    }
   ],
   "source": [
    "import matplotlib.pyplot as plt\n",
    "\n",
    "#CC across voxels for subject 3\n",
    "plt.figure(figsize=(6, 8))\n",
    "plt.boxplot(cc_test_subj3, vert=True, patch_artist=True)\n",
    "plt.title(\"Distribution of CC Across Voxels [Encoder Embeddings] - Subject 3\")\n",
    "plt.ylabel(\"Correlation Coefficient (CC)\")\n",
    "plt.xticks([1], ['Subject 3 Voxels'])\n",
    "plt.grid(True)\n",
    "plt.show()\n",
    "plt.savefig('encoder_subj3_cc_dist.png')"
   ]
  },
  {
   "cell_type": "code",
   "execution_count": null,
   "id": "a1fd011d-bb6a-4926-a83f-c88d1093055e",
   "metadata": {},
   "outputs": [],
   "source": []
  },
  {
   "cell_type": "code",
   "execution_count": null,
   "id": "582844da-3ce0-492e-b916-27f68262cf4e",
   "metadata": {},
   "outputs": [],
   "source": []
  }
 ],
 "metadata": {
  "kernelspec": {
   "display_name": "Python 3",
   "language": "python",
   "name": "python3"
  },
  "language_info": {
   "codemirror_mode": {
    "name": "ipython",
    "version": 3
   },
   "file_extension": ".py",
   "mimetype": "text/x-python",
   "name": "python",
   "nbconvert_exporter": "python",
   "pygments_lexer": "ipython3",
   "version": "3.12.7"
  }
 },
 "nbformat": 4,
 "nbformat_minor": 5
}
