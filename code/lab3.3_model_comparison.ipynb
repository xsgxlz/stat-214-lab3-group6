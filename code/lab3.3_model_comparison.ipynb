{
 "cells": [
  {
   "cell_type": "code",
   "execution_count": 2,
   "id": "b8702888-2645-49d7-ab95-f62046918c48",
   "metadata": {},
   "outputs": [],
   "source": [
    "import os\n",
    "os.environ['PYTORCH_CUDA_ALLOC_CONF'] = 'expandable_segments:True'\n",
    "\n",
    "import sys\n",
    "import pickle\n",
    "import time\n",
    "\n",
    "import numpy as np\n",
    "import torch\n",
    "from sklearn.model_selection import train_test_split\n",
    "from transformers import BertTokenizerFast, BertModel\n",
    "import matplotlib.pyplot as plt\n",
    "\n",
    "sys.path.append('code')\n",
    "sys.path.append(\"/jet/home/azhang19/stat 214/stat-214-lab3-group6/code\")\n",
    "\n",
    "from preprocessing import downsample_word_vectors, make_delayed\n",
    "\n",
    "torch.set_float32_matmul_precision(\"high\")\n",
    "device = \"cuda\" if torch.cuda.is_available() else \"cpu\"\n",
    "\n",
    "# Define the base path for data access\n",
    "data_path = '/ocean/projects/mth240012p/shared/data' # Path where data files are stored\n",
    "ckpt_path = '/ocean/projects/mth240012p/azhang19/lab3/ckpts'"
   ]
  },
  {
   "cell_type": "code",
   "execution_count": 3,
   "id": "32072d9c-dea5-41da-a137-89d4278beafd",
   "metadata": {},
   "outputs": [],
   "source": [
    "# %% Load preprocessed word sequences (likely includes words and their timings)\n",
    "with open(f'{data_path}/raw_text.pkl', 'rb') as file:\n",
    "    wordseqs = pickle.load(file) # wordseqs is expected to be a dictionary: {story_id: WordSequenceObject}\n",
    "\n",
    "# %% Get list of story identifiers and split into training and testing sets\n",
    "# Assumes story data for 'subject2' exists and filenames are story IDs + '.npy'\n",
    "stories = [i[:-4] for i in os.listdir(f'{data_path}/subject2')] # Extract story IDs from filenames\n",
    "# Split stories into train and test sets with a fixed random state for reproducibility\n",
    "\n",
    "\n",
    "# First, use 60% for training and 40% for the remaining data.\n",
    "train_stories, temp_stories = train_test_split(stories, train_size=0.6, random_state=214)\n",
    "# Then split the remaining 40% equally to get 20% validation and 20% test.\n",
    "val_stories, test_stories = train_test_split(temp_stories, train_size=0.5, random_state=214)\n",
    "\n",
    "#train, test = train[:10], test[:10] # For testing purposes, limit to first 10 stories in each set"
   ]
  },
  {
   "cell_type": "code",
   "execution_count": 4,
   "id": "9f2dd15b-2bb0-49e8-a0c2-9b0fbc6cdc36",
   "metadata": {},
   "outputs": [],
   "source": [
    "import os\n",
    "import sys\n",
    "import pickle\n",
    "\n",
    "import numpy as np\n",
    "from sklearn.model_selection import train_test_split\n",
    "import sklearn.preprocessing # For StandardScaler\n",
    "import sklearn.decomposition # For PCA\n",
    "import matplotlib.pyplot as plt\n",
    "from staticvectors import StaticVectors # Already imported above\n",
    "\n",
    "sys.path.append('code')\n",
    "sys.path.append(\"/jet/home/azhang19/stat 214/stat-214-lab3-group6/code\")\n",
    "\n",
    "import word_embedding # Imports the classes defined above if they are in word_embedding.py\n",
    "\n",
    "# Define the base path for data access\n",
    "data_path = '/ocean/projects/mth240012p/shared/data' # Path where data files are stored"
   ]
  },
  {
   "cell_type": "markdown",
   "id": "b93761ce-645b-4a42-8f59-902f699cf79c",
   "metadata": {},
   "source": [
    "#### 3.1 Models - Word2Vec, GloVe, BoW"
   ]
  },
  {
   "cell_type": "code",
   "execution_count": 10,
   "id": "c9537d21-552b-46a5-a002-706f383f2820",
   "metadata": {},
   "outputs": [],
   "source": [
    "class SafeStaticVectorsModel(word_embedding.StaticVectorsModel):\n",
    "    \"\"\"\n",
    "    A safe wrapper around StaticVectorsModel that returns a zero vector\n",
    "    for tokens not found in the pre-trained vocabulary to avoid negative seed errors.\n",
    "    \"\"\"\n",
    "    def transform(self, text):\n",
    "        \"\"\"\n",
    "        Transforms a list of words into a matrix of word embeddings.\n",
    "        For unknown words (not in the vocabulary), returns a zero vector.\n",
    "        \n",
    "        Args:\n",
    "            text (list): A list of tokens (words).\n",
    "        \n",
    "        Returns:\n",
    "            np.ndarray: A 2D array with one row per token.\n",
    "        \"\"\"\n",
    "        embeddings_list = []\n",
    "        # Loop over tokens in the text\n",
    "        for token in text:\n",
    "            # Check if token exists in the pre-trained model's tokens dictionary\n",
    "            if token in self.model.tokens:\n",
    "                # Retrieve the embedding; self.model.embeddings() returns an array of shape (1, dim)\n",
    "                emb = self.model.embeddings([token])\n",
    "                embeddings_list.append(emb[0])\n",
    "            else:\n",
    "                # If token is unknown, return a zero vector (avoid calling generate() which can yield a negative seed)\n",
    "                dim = self.model.config[\"dim\"]\n",
    "                embeddings_list.append(np.zeros(dim))\n",
    "        return np.array(embeddings_list)"
   ]
  },
  {
   "cell_type": "code",
   "execution_count": 11,
   "id": "8b4a3ff6-fae0-418a-b843-222eaecd36b3",
   "metadata": {},
   "outputs": [
    {
     "name": "stdout",
     "output_type": "stream",
     "text": [
      "BoW feature shapes:\n",
      "  X_train_bow: (20263, 19540)\n",
      "  X_val_bow: (7064, 19540)\n",
      "  X_test_bow: (7459, 19540)\n"
     ]
    }
   ],
   "source": [
    "# Bag of Words\n",
    "# 1. Fit a Bag-of-Words model on training stories.\n",
    "bow_model = word_embedding.BagofWords().fit(\n",
    "    [wordseqs[story].data for story in train_stories]\n",
    ")\n",
    "\n",
    "# 2. Create an aggregator to downsample, apply delays (TRs 1-4), standardize, and trim the first 5 and last 10 timepoints.\n",
    "bow_aggregator = word_embedding.embeddings_aggregator(\n",
    "    delays=range(1, 5),\n",
    "    standardize=True,\n",
    "    trim_range=(5, -10)\n",
    ")\n",
    "\n",
    "# 3. Generate downsampled BoW embeddings for all stories (train + validation + test).\n",
    "all_stories = train_stories + val_stories + test_stories\n",
    "bow_embedding = word_embedding.embed_sentences(all_stories, wordseqs, bow_model)\n",
    "\n",
    "# 4. Aggregate features for each split.\n",
    "X_train_bow = bow_aggregator.fit_transform(train_stories, bow_embedding)\n",
    "X_val_bow   = bow_aggregator.transform(val_stories, bow_embedding)\n",
    "X_test_bow  = bow_aggregator.transform(test_stories, bow_embedding)\n",
    "\n",
    "print(\"BoW feature shapes:\")\n",
    "print(\"  X_train_bow:\", X_train_bow.shape)\n",
    "print(\"  X_val_bow:\", X_val_bow.shape)\n",
    "print(\"  X_test_bow:\", X_test_bow.shape)"
   ]
  },
  {
   "cell_type": "code",
   "execution_count": 12,
   "id": "1f232178-b7f5-4b18-a3e3-2dd2a32e077f",
   "metadata": {},
   "outputs": [
    {
     "name": "stdout",
     "output_type": "stream",
     "text": [
      "Word2Vec feature shapes:\n",
      "  X_train_w2v: (20263, 1200)\n",
      "  X_val_w2v: (7064, 1200)\n",
      "  X_test_w2v: (7459, 1200)\n"
     ]
    }
   ],
   "source": [
    "# %% Word2Vec Feature Engineering Pipeline\n",
    "\n",
    "# 1. Load pre-trained Word2Vec model\n",
    "w2v_model_path = 'neuml/word2vec' # Path to Word2Vec model\n",
    "w2v_model = SafeStaticVectorsModel(w2v_model_path)\n",
    "w2v_aggregator = word_embedding.embeddings_aggregator(\n",
    "    delays=range(1, 5),\n",
    "    standardize=True,\n",
    "    trim_range=(5, -10)\n",
    ")\n",
    "w2v_embedding = word_embedding.embed_sentences(all_stories, wordseqs, w2v_model)\n",
    "X_train_w2v = w2v_aggregator.fit_transform(train_stories, w2v_embedding)\n",
    "X_val_w2v   = w2v_aggregator.transform(val_stories, w2v_embedding)\n",
    "X_test_w2v  = w2v_aggregator.transform(test_stories, w2v_embedding)\n",
    "\n",
    "print(\"Word2Vec feature shapes:\")\n",
    "print(\"  X_train_w2v:\", X_train_w2v.shape)\n",
    "print(\"  X_val_w2v:\", X_val_w2v.shape)\n",
    "print(\"  X_test_w2v:\", X_test_w2v.shape)"
   ]
  },
  {
   "cell_type": "code",
   "execution_count": 13,
   "id": "dacfdd66-8d99-4de0-9abc-aec37ce2f187",
   "metadata": {},
   "outputs": [
    {
     "name": "stdout",
     "output_type": "stream",
     "text": [
      "GloVe feature shapes:\n",
      "  X_train_glove: (20263, 1200)\n",
      "  X_val_glove: (7064, 1200)\n",
      "  X_test_glove: (7459, 1200)\n"
     ]
    }
   ],
   "source": [
    "#GloVe\n",
    "\n",
    "# 1. Load pre-trained GloVe model\n",
    "glove_model_path = 'neuml/glove-6B' # Path to GloVe model\n",
    "glove_model = SafeStaticVectorsModel(glove_model_path)\n",
    "glove_aggregator = word_embedding.embeddings_aggregator(\n",
    "    delays=range(1, 5),\n",
    "    standardize=True,\n",
    "    trim_range=(5, -10)\n",
    ")\n",
    "glove_embedding = word_embedding.embed_sentences(all_stories, wordseqs, glove_model)\n",
    "X_train_glove = glove_aggregator.fit_transform(train_stories, glove_embedding)\n",
    "X_val_glove   = glove_aggregator.transform(val_stories, glove_embedding)\n",
    "X_test_glove  = glove_aggregator.transform(test_stories, glove_embedding)\n",
    "\n",
    "print(\"GloVe feature shapes:\")\n",
    "print(\"  X_train_glove:\", X_train_glove.shape)\n",
    "print(\"  X_val_glove:\", X_val_glove.shape)\n",
    "print(\"  X_test_glove:\", X_test_glove.shape)"
   ]
  },
  {
   "cell_type": "code",
   "execution_count": 14,
   "id": "d5d6e999-ecae-4cb6-b775-52e0bbb7a873",
   "metadata": {},
   "outputs": [],
   "source": [
    "# %% Define a function to load fMRI data for specified stories and subjects\n",
    "def load_fmri_data(stories, data_path):\n",
    "    \"\"\"\n",
    "    Loads fMRI data (.npy files) for given stories and subjects.\n",
    "\n",
    "    Args:\n",
    "        stories (list): List of story identifiers to load fMRI data for.\n",
    "        data_path (str): Base path where subject fMRI data is stored (e.g., data_path/subject_id/story_id.npy).\n",
    "\n",
    "    Returns:\n",
    "        dict: A nested dictionary `{subject_id: {story_id: fmri_data_array}}`.\n",
    "    \"\"\"\n",
    "    subjects = ['subject2', 'subject3'] # List of subjects to load data for\n",
    "    fmri_data = {} # Outer dictionary {subject: {story: data}}\n",
    "    for subject in subjects:\n",
    "        subject_dict = {} # Inner dictionary {story: data} for the current subject\n",
    "        for story in stories:\n",
    "            # Construct the full path to the fMRI data file\n",
    "            file_path = os.path.join(data_path, subject, f'{story}.npy')\n",
    "            # Load the NumPy array from the file\n",
    "            data = np.load(file_path)\n",
    "            subject_dict[story] = data # Store data in the inner dictionary\n",
    "        fmri_data[subject] = subject_dict # Store the subject's data dictionary\n",
    "    return fmri_data"
   ]
  },
  {
   "cell_type": "code",
   "execution_count": 15,
   "id": "61cb9995-aa4f-4e63-8b85-8c2e2f7d6b37",
   "metadata": {},
   "outputs": [],
   "source": [
    "fmri_data = load_fmri_data(all_stories, data_path)"
   ]
  },
  {
   "cell_type": "code",
   "execution_count": 16,
   "id": "235f7523-45f1-4e3f-9958-2221dd326799",
   "metadata": {},
   "outputs": [
    {
     "name": "stdout",
     "output_type": "stream",
     "text": [
      "fMRI Data Shapes for subject2:\n",
      "  Y_train: (20263, 94251)\n",
      "  Y_val: (7064, 94251)\n",
      "  Y_test: (7459, 94251)\n",
      "fMRI Data Shapes for subject3:\n",
      "  Y_train: (20263, 95556)\n",
      "  Y_val: (7064, 95556)\n",
      "  Y_test: (7459, 95556)\n"
     ]
    }
   ],
   "source": [
    "def get_fmri_data(stories, fmri_data):\n",
    "    \"\"\"\n",
    "    Concatenates fMRI data across specified stories for each subject.\n",
    "    Returns a dictionary: {subject: concatenated_fmri_array}.\n",
    "    \"\"\"\n",
    "    out_dict = {}\n",
    "    for subj in fmri_data.keys():\n",
    "        concatenated = np.concatenate(\n",
    "            [fmri_data[subj][st] for st in stories], axis=0\n",
    "        )\n",
    "        out_dict[subj] = concatenated\n",
    "    return out_dict\n",
    "\n",
    "# Get concatenated fMRI responses per subject for each split.\n",
    "fmri_train = get_fmri_data(train_stories, fmri_data)\n",
    "fmri_val   = get_fmri_data(val_stories, fmri_data)\n",
    "fmri_test  = get_fmri_data(test_stories, fmri_data)\n",
    "\n",
    "def pad_nan_to_mean(data):\n",
    "    \"\"\"Replace NaN values in a NumPy array with the overall mean of the non-NaN values.\"\"\"\n",
    "    mean_val = np.nanmean(data)\n",
    "    return np.nan_to_num(data, nan=mean_val)\n",
    "\n",
    "# Apply NaN padding to fMRI data for each subject and split.\n",
    "for subj in fmri_train:\n",
    "    fmri_train[subj] = pad_nan_to_mean(fmri_train[subj])\n",
    "for subj in fmri_val:\n",
    "    fmri_val[subj] = pad_nan_to_mean(fmri_val[subj])\n",
    "for subj in fmri_test:\n",
    "    fmri_test[subj] = pad_nan_to_mean(fmri_test[subj])\n",
    "\n",
    "# For modeling, we select one subject's data (e.g., subject2)\n",
    "Y_train = fmri_train['subject2']  # fMRI responses for training\n",
    "Y_val   = fmri_val['subject2']    # validation responses\n",
    "Y_test  = fmri_test['subject2']   # test responses\n",
    "\n",
    "print(\"fMRI Data Shapes for subject2:\")\n",
    "print(\"  Y_train:\", Y_train.shape)\n",
    "print(\"  Y_val:\", Y_val.shape)\n",
    "print(\"  Y_test:\", Y_test.shape)\n",
    "\n",
    "# Other subject for more analysis\n",
    "Y_train_3 = fmri_train['subject3']  # fMRI responses for training\n",
    "Y_val_3   = fmri_val['subject3']    # validation responses\n",
    "Y_test_3  = fmri_test['subject3']   # test responses\n",
    "\n",
    "print(\"fMRI Data Shapes for subject3:\")\n",
    "print(\"  Y_train:\", Y_train_3.shape)\n",
    "print(\"  Y_val:\", Y_val_3.shape)\n",
    "print(\"  Y_test:\", Y_test_3.shape)"
   ]
  },
  {
   "cell_type": "code",
   "execution_count": 17,
   "id": "0e07cba4-ef21-4961-9c9c-e3d7d0edd04c",
   "metadata": {},
   "outputs": [],
   "source": [
    "import numpy as np\n",
    "from scipy.stats import pearsonr\n",
    "\n",
    "def voxel_correlation(y_true, y_pred):\n",
    "    \"\"\"\n",
    "    Computes voxel-wise Pearson correlation coefficients.\n",
    "    \n",
    "    Args:\n",
    "        y_true (np.ndarray): True fMRI responses (the dim is [n_timepoints, n_voxels])\n",
    "        y_pred (np.ndarray): Predicted fMRI responses\n",
    "        \n",
    "    Return:\n",
    "        np.ndarray: 1D array with the correlation coefficient for each voxel.\n",
    "    \"\"\"\n",
    "    n_voxels = y_true.shape[1]\n",
    "    cc = np.zeros(n_voxels)\n",
    "    for v in range(n_voxels):\n",
    "        #avoid division by 0\n",
    "        if np.std(y_true[:, v]) < 1e-6 or np.std(y_pred[:, v]) < 1e-6:\n",
    "            cc[v] = 0\n",
    "        else:\n",
    "            cc[v] = pearsonr(y_true[:, v], y_pred[:, v])[0]\n",
    "    return cc\n",
    "\n",
    "all_embeddings = {\n",
    "    'Word2Vec': {'X_train': X_train_w2v, 'X_val': X_val_w2v, 'X_test': X_test_w2v},\n",
    "    'GloVe': {'X_train': X_train_glove, 'X_val': X_val_glove, 'X_test': X_test_glove},\n",
    "    'BoW': {'X_train': X_train_bow, 'X_val': X_val_bow, 'X_test': X_test_bow},\n",
    "}\n"
   ]
  },
  {
   "cell_type": "markdown",
   "id": "bbd5a1e2-6188-4b1d-b749-141a15b3c2f4",
   "metadata": {},
   "source": [
    "#### 3.2 Model - Encoder Embeddings"
   ]
  },
  {
   "cell_type": "code",
   "execution_count": 18,
   "id": "78d4fccb-2abf-4e1f-9c5d-d3aca0483e07",
   "metadata": {},
   "outputs": [],
   "source": [
    "ckpt_path = '/ocean/projects/mth240012p/chidamba/ckpts/'\n",
    "\n",
    "dim = 32 # [32, 64]\n",
    "mlm_prob = 0.15 # [0.1, 0.15, 0.2]\n",
    "epochs = 1000 # [0, 100, 200, 300, 400, 500, 600, 700, 800, 900, 1000]\n",
    "filename = f\"dim{dim}_mlm{mlm_prob}_epoch{epochs}.pth\"\n",
    "model, record = torch.load(f\"{ckpt_path}/{filename}\", weights_only=False, map_location=device)\n",
    "model = model.to(device).eval()\n",
    "\n",
    "trim_range = (5, -10)\n",
    "delays = True\n",
    "delay_range = [0, 1, 2] # Includes 0, 1, 2"
   ]
  },
  {
   "cell_type": "code",
   "execution_count": 19,
   "id": "30f865a9-d0b6-4cda-8981-6c71f1bbcb55",
   "metadata": {},
   "outputs": [],
   "source": [
    "tokenizer = BertTokenizerFast.from_pretrained(\"bert-base-uncased\")\n",
    "embeddings = {}\n",
    "\n",
    "for story in stories:\n",
    "    words = wordseqs[story].data\n",
    "    tokens = tokenizer(words, add_special_tokens=False, truncation=False,max_length=sys.maxsize)['input_ids']\n",
    "    token_tensor = torch.tensor(sum(tokens, []), device=device).unsqueeze(0)\n",
    "    token_per_word = [len(i) for i in tokens]\n",
    "    with torch.inference_mode():\n",
    "        output = model(token_tensor,\n",
    "                    attn_mask=torch.ones_like(token_tensor, device=device, dtype=torch.bool), classification=False)\n",
    "        output = output.squeeze(0)\n",
    "    start = 0\n",
    "    word_embeddings = []\n",
    "    for i in token_per_word:\n",
    "        end = start + i\n",
    "        if i != 0:\n",
    "            word_embedding = output[start:end].mean(dim=0)\n",
    "        else:\n",
    "            word_embedding = torch.zeros(output.size(1), device=device)\n",
    "\n",
    "        word_embeddings.append(word_embedding)\n",
    "        start = end\n",
    "    embeddings[story] = torch.stack(word_embeddings).cpu().numpy()\n",
    "    \n",
    "story_embeddings = downsample_word_vectors(stories, embeddings, wordseqs)\n",
    "\n",
    "for story in stories:\n",
    "    if delays:\n",
    "        story_embeddings[story] = make_delayed(story_embeddings[story], delay_range)\n",
    "    story_embeddings[story] = story_embeddings[story][trim_range[0]:trim_range[1]]"
   ]
  },
  {
   "cell_type": "code",
   "execution_count": 20,
   "id": "da273b0e-0d2d-4618-a121-ca071f234f6b",
   "metadata": {},
   "outputs": [],
   "source": [
    "def aggregate_embeddings(story_embeddings, stories):\n",
    "    \"\"\"\n",
    "    Aggregate the embeddings of the stories into a single tensor.\n",
    "    \"\"\"\n",
    "    all_embeddings = []\n",
    "    for story in stories:\n",
    "        all_embeddings.append(story_embeddings[story])\n",
    "    return np.concatenate(all_embeddings, axis=0)\n",
    "\n",
    "X_train_encoder = aggregate_embeddings(story_embeddings, train_stories)\n",
    "X_val_encoder = aggregate_embeddings(story_embeddings, val_stories)\n",
    "X_test_encoder = aggregate_embeddings(story_embeddings, test_stories)\n",
    "\n",
    "all_embeddings['Encoder'] = {'X_train': X_train_encoder, 'X_val': X_val_encoder, 'X_test': X_test_encoder}"
   ]
  },
  {
   "cell_type": "code",
   "execution_count": 21,
   "id": "50c5fcd3-a96b-437a-af60-c4ff9d84c9b2",
   "metadata": {},
   "outputs": [
    {
     "data": {
      "text/plain": [
       "dict_keys(['Word2Vec', 'GloVe', 'BoW', 'Encoder'])"
      ]
     },
     "execution_count": 21,
     "metadata": {},
     "output_type": "execute_result"
    }
   ],
   "source": [
    "all_embeddings.keys()"
   ]
  },
  {
   "cell_type": "markdown",
   "id": "82984eea-61c5-4358-b1d0-73859412070b",
   "metadata": {},
   "source": [
    "#### 3.3 Models - Finetuned and Pretrained BERT"
   ]
  },
  {
   "cell_type": "code",
   "execution_count": 29,
   "id": "2ff21b84-3f65-46ea-97df-e956bb4aab7a",
   "metadata": {},
   "outputs": [],
   "source": [
    "import os\n",
    "os.environ['PYTORCH_CUDA_ALLOC_CONF'] = 'expandable_segments:True'\n",
    "\n",
    "import sys\n",
    "import pickle\n",
    "import time\n",
    "import random\n",
    "import copy\n",
    "import itertools\n",
    "\n",
    "import numpy as np\n",
    "import torch\n",
    "import torch.nn as nn\n",
    "from sklearn.model_selection import train_test_split\n",
    "from transformers import BertTokenizerFast, BertModel\n",
    "from peft import LoraConfig, get_peft_model, TaskType\n",
    "import matplotlib.pyplot as plt\n",
    "\n",
    "sys.path.append('code')\n",
    "sys.path.append(\"/jet/home/azhang19/stat 214/stat-214-lab3-group6/code\")\n",
    "\n",
    "from BERT.data import TextDataset\n",
    "from finetune_bert_utils import get_sliding_window_embeddings, aggregate_embeddings, downsample_word_vectors_torch, load_fmri_data, get_fmri_data\n",
    "\n",
    "torch.set_float32_matmul_precision(\"high\")\n",
    "device = \"cuda\" if torch.cuda.is_available() else \"cpu\"\n",
    "\n",
    "# Define the base path for data access\n",
    "data_path = '/ocean/projects/mth240012p/shared/data'"
   ]
  },
  {
   "cell_type": "code",
   "execution_count": 30,
   "id": "2463dbcb-c4c0-4157-9707-0657e291d155",
   "metadata": {},
   "outputs": [],
   "source": [
    "model_name = \"bert-base-uncased\"\n",
    "tokenizer = BertTokenizerFast.from_pretrained(model_name)\n",
    "base_model = BertModel.from_pretrained(model_name)"
   ]
  },
  {
   "cell_type": "code",
   "execution_count": 31,
   "id": "da67dce2-c808-4974-924f-91a170023014",
   "metadata": {},
   "outputs": [],
   "source": [
    "train_text = [\" \".join(wordseqs[i].data).strip() for i in train_stories]\n",
    "train_dataset = TextDataset(train_text, tokenizer, max_len=sys.maxsize)"
   ]
  },
  {
   "cell_type": "code",
   "execution_count": 32,
   "id": "6abe8b62-7c6d-45f5-abfa-e91ecbcd472e",
   "metadata": {},
   "outputs": [],
   "source": [
    "trim_range = (5, -10)\n",
    "tokenizer = BertTokenizerFast.from_pretrained(\"bert-base-uncased\")\n",
    "embeddings = {}\n",
    "\n",
    "texts = []\n",
    "\n",
    "for story in stories:\n",
    "    words = wordseqs[story].data\n",
    "    texts.append(\" \".join(words).strip())\n",
    "    tokens = tokenizer(words, add_special_tokens=False, truncation=False, max_length=sys.maxsize)['input_ids']\n",
    "    token_per_word = [len(i) for i in tokens]\n",
    "tokenlized_stories = tokenizer(texts, add_special_tokens=False, padding=\"longest\", truncation=False, max_length=sys.maxsize,\n",
    "                               return_token_type_ids=False, return_tensors=\"pt\")\n",
    "input_ids = tokenlized_stories[\"input_ids\"].to(device)\n",
    "attention_mask = tokenlized_stories[\"attention_mask\"].to(device)"
   ]
  },
  {
   "cell_type": "code",
   "execution_count": 33,
   "id": "21f992af-ef2c-47db-90c3-5904eb019a15",
   "metadata": {},
   "outputs": [],
   "source": [
    "def forward_pass(current_stories, base_model):\n",
    "    idx = [story_name_to_idx[story] for story in current_stories]\n",
    "    embeddings = get_sliding_window_embeddings(base_model, input_ids[idx], attention_mask[idx])\n",
    "\n",
    "    features = {}\n",
    "    for i, story in enumerate(current_stories):\n",
    "        words = wordseqs[story].data\n",
    "        tokens = tokenizer(words, add_special_tokens=False, truncation=False, max_length=sys.maxsize)['input_ids']\n",
    "        token_per_word = [len(i) for i in tokens]\n",
    "        story_embeddings = embeddings[i]\n",
    "        word_embeddings = []\n",
    "        start = 0\n",
    "        for i in token_per_word:\n",
    "            end = start + i\n",
    "            if i != 0:\n",
    "                word_embedding = story_embeddings[start:end].mean(dim=0)\n",
    "            else:\n",
    "                word_embedding = torch.zeros(story_embeddings.size(1), device=device)\n",
    "            word_embeddings.append(word_embedding)\n",
    "            start = end\n",
    "        \n",
    "        features[story] = torch.stack(word_embeddings)#.cpu().numpy()\n",
    "\n",
    "    features = downsample_word_vectors_torch(current_stories, features, wordseqs)\n",
    "    for story in current_stories:\n",
    "        features[story] = features[story][trim_range[0]:trim_range[1]]\n",
    "\n",
    "    aggregated_features = aggregate_embeddings(features, current_stories)\n",
    "    return aggregated_features"
   ]
  },
  {
   "cell_type": "code",
   "execution_count": 34,
   "id": "129f250f-096d-4f8d-9437-7b933ef18c28",
   "metadata": {},
   "outputs": [],
   "source": [
    "weight_decay = 1e-2\n",
    "\n",
    "lora_model = True\n",
    "lora_rank = 8\n",
    "\n",
    "if lora_model:\n",
    "    config = LoraConfig(\n",
    "    r=lora_rank,\n",
    "    lora_alpha=lora_rank * 2,\n",
    "    target_modules=['query', 'value'],\n",
    "    lora_dropout=0.1,\n",
    "    bias=\"none\",\n",
    "    task_type=TaskType.FEATURE_EXTRACTION\n",
    "    )\n",
    "    \n",
    "    ckpt = torch.load(f'/jet/home/azhang19/stat 214/stat-214-lab3-group6/code/classifier_ckpt/best_lora_wd{weight_decay}_r{lora_rank}.pth', weights_only=False)\n",
    "    classifiers = {i: ckpt[i]['classifier_module'] for i in ckpt.keys()}\n",
    "    lora_weights = {i: ckpt[i]['lora_state_dict'] for i in ckpt.keys()}\n",
    "else:\n",
    "    classifiers = torch.load(f'/ocean/projects/mth240012p/azhang19/lab3/classifier_ckpts/best_classifiers{weight_decay}.pth', weights_only=False)"
   ]
  },
  {
   "cell_type": "code",
   "execution_count": 35,
   "id": "c75061ef-2349-4968-9941-27e4383055d5",
   "metadata": {},
   "outputs": [
    {
     "name": "stdout",
     "output_type": "stream",
     "text": [
      "torch.Size([7459, 94251])\n",
      "torch.Size([7459, 95556])\n",
      "torch.Size([7459, 94251])\n",
      "torch.Size([7459, 95556])\n",
      "(7459, 94251)\n",
      "(7459, 95556)\n"
     ]
    }
   ],
   "source": [
    "story_name_to_idx = {story: i for i, story in enumerate(stories)}\n",
    "\n",
    "with torch.inference_mode():\n",
    "    base_pred_fmri = {}\n",
    "    lora_pred_fmri = {}\n",
    "    true_fmri = {}\n",
    "    for subj in fmri_data.keys():\n",
    "        base_model = BertModel.from_pretrained(model_name).to(device).eval()\n",
    "        if lora_model:\n",
    "            lora_model = get_peft_model(copy.deepcopy(base_model), config).to(device)\n",
    "            lora_model.load_state_dict(lora_weights[subj])\n",
    "            lora_model.eval()\n",
    "\n",
    "        base_features = forward_pass(test_stories, base_model)\n",
    "        lora_features = forward_pass(test_stories, lora_model)\n",
    "        \n",
    "        base_pred_fmri[subj] = classifiers[subj](base_features)\n",
    "        lora_pred_fmri[subj] = classifiers[subj](lora_features)\n",
    "        \n",
    "    print(base_pred_fmri['subject2'].shape)\n",
    "    print(base_pred_fmri['subject3'].shape)\n",
    "    print(lora_pred_fmri['subject2'].shape)\n",
    "    print(lora_pred_fmri['subject3'].shape)\n",
    "    print(Y_test.shape)\n",
    "    print(Y_test_3.shape)\n",
    "    \n"
   ]
  },
  {
   "cell_type": "code",
   "execution_count": null,
   "id": "f51fa2bc-db15-4309-b3f0-a933b46ecf3a",
   "metadata": {},
   "outputs": [],
   "source": []
  },
  {
   "cell_type": "markdown",
   "id": "191948aa-87d0-4154-a65e-93670cd0e9ca",
   "metadata": {},
   "source": [
    "## Model Comparisons"
   ]
  },
  {
   "cell_type": "markdown",
   "id": "dee835b4-353e-4d01-a910-2ac5ca1b421f",
   "metadata": {},
   "source": [
    "#### Pre-trained vs Fine-tuned BERT Comparison"
   ]
  },
  {
   "cell_type": "code",
   "execution_count": 36,
   "id": "f3fa6e22-5778-4d8f-ab1b-646ea003554f",
   "metadata": {},
   "outputs": [],
   "source": [
    "pretrained_cc_test_subj2 = voxel_correlation(Y_test, base_pred_fmri['subject2'].cpu().numpy())\n",
    "pretrained_cc_test_subj3 = voxel_correlation(Y_test, base_pred_fmri['subject3'].cpu().numpy())\n",
    "\n",
    "finetuned_cc_test_subj2 = voxel_correlation(Y_test, lora_pred_fmri['subject2'].cpu().numpy())\n",
    "finetuned_cc_test_subj3 = voxel_correlation(Y_test, lora_pred_fmri['subject3'].cpu().numpy())"
   ]
  },
  {
   "cell_type": "code",
   "execution_count": 37,
   "id": "d5cd5c47-938e-4d73-8ee8-386a10cb512e",
   "metadata": {},
   "outputs": [],
   "source": [
    "def summarize_cc(cc):\n",
    "    return {\n",
    "        'Mean CC':      np.mean(cc),\n",
    "        'Median CC':    np.median(cc),\n",
    "        'Top 1% CC':    np.percentile(cc, 99),\n",
    "        'Top 5% CC':    np.percentile(cc, 95),\n",
    "    }"
   ]
  },
  {
   "cell_type": "code",
   "execution_count": 38,
   "id": "aa9819c6-489e-4f75-a8df-578ed2a62e58",
   "metadata": {},
   "outputs": [],
   "source": [
    "import pandas as pd\n",
    "\n",
    "df_subj2 = pd.DataFrame([\n",
    "    summarize_cc(pretrained_cc_test_subj2),\n",
    "    summarize_cc(finetuned_cc_test_subj2),\n",
    "], index=['Pretrained','Finetuned'])\n",
    "\n",
    "df_subj3 = pd.DataFrame([\n",
    "    summarize_cc(pretrained_cc_test_subj3),\n",
    "    summarize_cc(finetuned_cc_test_subj3),\n",
    "], index=['Pretrained','Finetuned'])"
   ]
  },
  {
   "cell_type": "code",
   "execution_count": 39,
   "id": "e673236d-e6ce-47d7-ba66-48f70b4e692c",
   "metadata": {},
   "outputs": [
    {
     "name": "stdout",
     "output_type": "stream",
     "text": [
      "Subject 2 results:\n",
      "              Mean CC  Median CC  Top 1% CC  Top 5% CC\n",
      "Pretrained  0.018732   0.014398   0.103731   0.064962\n",
      "Finetuned   0.020627   0.015985   0.108326   0.069247 \n",
      "\n",
      "Subject 3 results:\n",
      "              Mean CC  Median CC  Top 1% CC  Top 5% CC\n",
      "Pretrained  0.005317   0.005367   0.044171   0.030436\n",
      "Finetuned   0.005947   0.005888   0.045137   0.031242\n"
     ]
    }
   ],
   "source": [
    "print(\"Subject 2 results:\\n\", df_subj2, \"\\n\")\n",
    "print(\"Subject 3 results:\\n\", df_subj3)"
   ]
  },
  {
   "cell_type": "code",
   "execution_count": 40,
   "id": "a9143d0b-67cd-42c0-8829-0c6c46cd5d08",
   "metadata": {},
   "outputs": [
    {
     "name": "stdout",
     "output_type": "stream",
     "text": [
      "Subject 2 results:\n"
     ]
    },
    {
     "data": {
      "text/html": [
       "<div>\n",
       "<style scoped>\n",
       "    .dataframe tbody tr th:only-of-type {\n",
       "        vertical-align: middle;\n",
       "    }\n",
       "\n",
       "    .dataframe tbody tr th {\n",
       "        vertical-align: top;\n",
       "    }\n",
       "\n",
       "    .dataframe thead th {\n",
       "        text-align: right;\n",
       "    }\n",
       "</style>\n",
       "<table border=\"1\" class=\"dataframe\">\n",
       "  <thead>\n",
       "    <tr style=\"text-align: right;\">\n",
       "      <th></th>\n",
       "      <th>Mean CC</th>\n",
       "      <th>Median CC</th>\n",
       "      <th>Top 1% CC</th>\n",
       "      <th>Top 5% CC</th>\n",
       "    </tr>\n",
       "  </thead>\n",
       "  <tbody>\n",
       "    <tr>\n",
       "      <th>Pretrained</th>\n",
       "      <td>0.018732</td>\n",
       "      <td>0.014398</td>\n",
       "      <td>0.103731</td>\n",
       "      <td>0.064962</td>\n",
       "    </tr>\n",
       "    <tr>\n",
       "      <th>Finetuned</th>\n",
       "      <td>0.020627</td>\n",
       "      <td>0.015985</td>\n",
       "      <td>0.108326</td>\n",
       "      <td>0.069247</td>\n",
       "    </tr>\n",
       "  </tbody>\n",
       "</table>\n",
       "</div>"
      ],
      "text/plain": [
       "             Mean CC  Median CC  Top 1% CC  Top 5% CC\n",
       "Pretrained  0.018732   0.014398   0.103731   0.064962\n",
       "Finetuned   0.020627   0.015985   0.108326   0.069247"
      ]
     },
     "execution_count": 40,
     "metadata": {},
     "output_type": "execute_result"
    }
   ],
   "source": [
    "print(\"Subject 2 results:\")\n",
    "df_subj2"
   ]
  },
  {
   "cell_type": "code",
   "execution_count": 41,
   "id": "0736fa89-1ed6-4d4a-b760-c9685d0ca46a",
   "metadata": {},
   "outputs": [
    {
     "name": "stdout",
     "output_type": "stream",
     "text": [
      "Subject 3 results:\n"
     ]
    },
    {
     "data": {
      "text/html": [
       "<div>\n",
       "<style scoped>\n",
       "    .dataframe tbody tr th:only-of-type {\n",
       "        vertical-align: middle;\n",
       "    }\n",
       "\n",
       "    .dataframe tbody tr th {\n",
       "        vertical-align: top;\n",
       "    }\n",
       "\n",
       "    .dataframe thead th {\n",
       "        text-align: right;\n",
       "    }\n",
       "</style>\n",
       "<table border=\"1\" class=\"dataframe\">\n",
       "  <thead>\n",
       "    <tr style=\"text-align: right;\">\n",
       "      <th></th>\n",
       "      <th>Mean CC</th>\n",
       "      <th>Median CC</th>\n",
       "      <th>Top 1% CC</th>\n",
       "      <th>Top 5% CC</th>\n",
       "    </tr>\n",
       "  </thead>\n",
       "  <tbody>\n",
       "    <tr>\n",
       "      <th>Pretrained</th>\n",
       "      <td>0.005317</td>\n",
       "      <td>0.005367</td>\n",
       "      <td>0.044171</td>\n",
       "      <td>0.030436</td>\n",
       "    </tr>\n",
       "    <tr>\n",
       "      <th>Finetuned</th>\n",
       "      <td>0.005947</td>\n",
       "      <td>0.005888</td>\n",
       "      <td>0.045137</td>\n",
       "      <td>0.031242</td>\n",
       "    </tr>\n",
       "  </tbody>\n",
       "</table>\n",
       "</div>"
      ],
      "text/plain": [
       "             Mean CC  Median CC  Top 1% CC  Top 5% CC\n",
       "Pretrained  0.005317   0.005367   0.044171   0.030436\n",
       "Finetuned   0.005947   0.005888   0.045137   0.031242"
      ]
     },
     "execution_count": 41,
     "metadata": {},
     "output_type": "execute_result"
    }
   ],
   "source": [
    "print(\"Subject 3 results:\")\n",
    "df_subj3"
   ]
  },
  {
   "cell_type": "code",
   "execution_count": 47,
   "id": "d3eea2d3-339b-4b3a-b48b-aaeb1b86375b",
   "metadata": {
    "scrolled": true
   },
   "outputs": [
    {
     "data": {
      "image/png": "[encoded data removed]",
      "text/plain": [
       "<Figure size 800x600 with 1 Axes>"
      ]
     },
     "metadata": {},
     "output_type": "display_data"
    }
   ],
   "source": [
    "import matplotlib.pyplot as plt\n",
    "\n",
    "plt.figure(figsize=(8, 6))\n",
    "plt.hist(pretrained_cc_test_subj2, bins=50, edgecolor='black', alpha=0.7)\n",
    "plt.title(\"Distribution of Voxel-wise Test CCs (Pre-trained Model) [Subject 2]\")\n",
    "plt.xlabel(\"Correlation Coefficient (CC)\")\n",
    "plt.ylabel(\"Number of Voxels\")\n",
    "plt.grid(True)\n",
    "plt.savefig('cc_dist_pretrained_subj2', dpi=400)\n",
    "plt.show()"
   ]
  },
  {
   "cell_type": "code",
   "execution_count": 48,
   "id": "047dd6f6-27ec-4e61-8e27-3248f6a8cc61",
   "metadata": {},
   "outputs": [
    {
     "data": {
      "image/png": "[encoded data removed]",
      "text/plain": [
       "<Figure size 800x600 with 1 Axes>"
      ]
     },
     "metadata": {},
     "output_type": "display_data"
    }
   ],
   "source": [
    "import matplotlib.pyplot as plt\n",
    "\n",
    "plt.figure(figsize=(8, 6))\n",
    "plt.hist(finetuned_cc_test_subj2, bins=50, edgecolor='black', alpha=0.7)\n",
    "plt.title(\"Distribution of Voxel-wise Test CCs (Fine-tuned Model) [Subject 2]\")\n",
    "plt.xlabel(\"Correlation Coefficient (CC)\")\n",
    "plt.ylabel(\"Number of Voxels\")\n",
    "plt.grid(True)\n",
    "plt.savefig('cc_dist_finetuned_subj2', dpi=400)\n",
    "plt.show()"
   ]
  },
  {
   "cell_type": "markdown",
   "id": "76528fff-7ab0-4221-93ba-dec1fd643c74",
   "metadata": {},
   "source": [
    "#### Comparison with Models from 3.2 and 3.1"
   ]
  },
  {
   "cell_type": "code",
   "execution_count": 51,
   "id": "fa72c96e-23e7-4a5a-b1b4-9cbe1b6c4912",
   "metadata": {},
   "outputs": [],
   "source": [
    "subjects = [\"subject2\", \"subject3\"]\n",
    "alpha_best = 1000\n",
    "cc_store = {\n",
    "    \"subject2\": {\n",
    "        \"Finetuned\" : finetuned_cc_test_subj2,\n",
    "        \"Pretrained\": pretrained_cc_test_subj2,\n",
    "    },\n",
    "    \"subject3\": {\n",
    "        \"Finetuned\" : finetuned_cc_test_subj3,\n",
    "        \"Pretrained\": pretrained_cc_test_subj3,\n",
    "    },\n",
    "}\n",
    "\n",
    "summary_store = {s: [] for s in cc_store}\n",
    "\n",
    "for subj, d in cc_store.items():\n",
    "    for mdl, cc in d.items():\n",
    "        summary_store[subj].append({\"Model\": mdl, **summarize_cc(cc)})"
   ]
  },
  {
   "cell_type": "code",
   "execution_count": 52,
   "id": "d3142827-25a5-4ab6-9bfe-57e16a26418c",
   "metadata": {},
   "outputs": [],
   "source": [
    "encoder_embeddings = {}\n",
    "encoder_embeddings['Encoder'] = {'X_train': X_train_encoder, 'X_val': X_val_encoder, 'X_test': X_test_encoder}"
   ]
  },
  {
   "cell_type": "code",
   "execution_count": 53,
   "id": "1906c396-83c1-4611-a77a-95daa5a683f7",
   "metadata": {},
   "outputs": [
    {
     "name": "stdout",
     "output_type": "stream",
     "text": [
      "Encoder\n"
     ]
    }
   ],
   "source": [
    "from sklearn.linear_model import Ridge\n",
    "\n",
    "#usually use all_embeddings, modified to retrieve a quick result for time efficiency\n",
    "#for name, embed in all_embeddings.items():\n",
    "for name, embed in encoder_embeddings.items():\n",
    "    print(name)\n",
    "    model = Ridge(alpha=alpha_best)\n",
    "    model.fit(embed[\"X_train\"], Y_train)\n",
    "    pred2 = model.predict(embed[\"X_test\"])\n",
    "    cc2 = voxel_correlation(Y_test, pred2)\n",
    "\n",
    "    model.fit(embed[\"X_train\"], Y_train_3)\n",
    "    pred3 = model.predict(embed[\"X_test\"])\n",
    "    cc3 = voxel_correlation(Y_test_3, pred3)\n",
    "\n",
    "    cc_store[\"subject2\"][name] = cc2\n",
    "    cc_store[\"subject3\"][name] = cc3\n",
    "\n",
    "    summary_store[\"subject2\"].append({\"Model\": name, **summarize_cc(cc2)})\n",
    "    summary_store[\"subject3\"].append({\"Model\": name, **summarize_cc(cc3)})"
   ]
  },
  {
   "cell_type": "code",
   "execution_count": 54,
   "id": "e246a220-ed67-4e26-b98e-fb4876a56c9e",
   "metadata": {},
   "outputs": [
    {
     "data": {
      "text/plain": [
       "{'subject2': [{'Model': 'Finetuned',\n",
       "   'Mean CC': 0.02062704096307738,\n",
       "   'Median CC': 0.015984748522798874,\n",
       "   'Top 1% CC': 0.10832639091642954,\n",
       "   'Top 5% CC': 0.06924672183883668},\n",
       "  {'Model': 'Pretrained',\n",
       "   'Mean CC': 0.018732105487638526,\n",
       "   'Median CC': 0.01439837070498022,\n",
       "   'Top 1% CC': 0.10373117966987755,\n",
       "   'Top 5% CC': 0.06496225343931064},\n",
       "  {'Model': 'Encoder',\n",
       "   'Mean CC': 0.005988515286384465,\n",
       "   'Median CC': 0.005273706756131932,\n",
       "   'Top 1% CC': 0.04160232157436844,\n",
       "   'Top 5% CC': 0.029037815551814984}],\n",
       " 'subject3': [{'Model': 'Finetuned',\n",
       "   'Mean CC': 0.005947456638594541,\n",
       "   'Median CC': 0.0058880057524962936,\n",
       "   'Top 1% CC': 0.04513731620034282,\n",
       "   'Top 5% CC': 0.031242214350195585},\n",
       "  {'Model': 'Pretrained',\n",
       "   'Mean CC': 0.005317009453208727,\n",
       "   'Median CC': 0.0053674351316797715,\n",
       "   'Top 1% CC': 0.044170666950518044,\n",
       "   'Top 5% CC': 0.030435528976579522},\n",
       "  {'Model': 'Encoder',\n",
       "   'Mean CC': 0.011400103496434263,\n",
       "   'Median CC': 0.009270000662305829,\n",
       "   'Top 1% CC': 0.06805573162975886,\n",
       "   'Top 5% CC': 0.04257795183310438}]}"
      ]
     },
     "execution_count": 54,
     "metadata": {},
     "output_type": "execute_result"
    }
   ],
   "source": [
    "summary_store"
   ]
  },
  {
   "cell_type": "markdown",
   "id": "6b4d1ef0-9841-4f48-af43-88fc3f255f32",
   "metadata": {},
   "source": [
    "Note: below cell is old output (before pretrained model and encoder fix)"
   ]
  },
  {
   "cell_type": "code",
   "execution_count": 99,
   "id": "80307f32-0c04-4acb-bf03-7f6fa60a6a04",
   "metadata": {},
   "outputs": [
    {
     "data": {
      "text/plain": [
       "{'subject2': [{'Model': 'Finetuned',\n",
       "   'Mean CC': 0.02062704096307738,\n",
       "   'Median CC': 0.015984748522798874,\n",
       "   'Top 1% CC': 0.10832639091642954,\n",
       "   'Top 5% CC': 0.06924672183883668},\n",
       "  {'Model': 'Pretrained',\n",
       "   'Mean CC': 0.02062704096307738,\n",
       "   'Median CC': 0.015984748522798874,\n",
       "   'Top 1% CC': 0.10832639091642954,\n",
       "   'Top 5% CC': 0.06924672183883668},\n",
       "  {'Model': 'Word2Vec',\n",
       "   'Mean CC': 0.005647540336684472,\n",
       "   'Median CC': 0.0044655700350996076,\n",
       "   'Top 1% CC': 0.05011628043316603,\n",
       "   'Top 5% CC': 0.03215013061992268},\n",
       "  {'Model': 'GloVe',\n",
       "   'Mean CC': 0.0049510441086168646,\n",
       "   'Median CC': 0.004252985127737622,\n",
       "   'Top 1% CC': 0.04325430295824811,\n",
       "   'Top 5% CC': 0.02934257730090811},\n",
       "  {'Model': 'BoW',\n",
       "   'Mean CC': 0.0009044362451930143,\n",
       "   'Median CC': 0.0008696480808858295,\n",
       "   'Top 1% CC': 0.031131123521939565,\n",
       "   'Top 5% CC': 0.02151494027295877}],\n",
       " 'subject3': [{'Model': 'Finetuned',\n",
       "   'Mean CC': 0.005947456638594541,\n",
       "   'Median CC': 0.0058880057524962936,\n",
       "   'Top 1% CC': 0.04513731620034282,\n",
       "   'Top 5% CC': 0.031242214350195585},\n",
       "  {'Model': 'Pretrained',\n",
       "   'Mean CC': 0.005947456638594541,\n",
       "   'Median CC': 0.0058880057524962936,\n",
       "   'Top 1% CC': 0.04513731620034282,\n",
       "   'Top 5% CC': 0.031242214350195585},\n",
       "  {'Model': 'Word2Vec',\n",
       "   'Mean CC': 0.008741579038665319,\n",
       "   'Median CC': 0.006995883798512452,\n",
       "   'Top 1% CC': 0.06265864932700775,\n",
       "   'Top 5% CC': 0.038737526836261256},\n",
       "  {'Model': 'GloVe',\n",
       "   'Mean CC': 0.00866188568463653,\n",
       "   'Median CC': 0.006905458308309352,\n",
       "   'Top 1% CC': 0.061016181667628844,\n",
       "   'Top 5% CC': 0.03853976209338884},\n",
       "  {'Model': 'BoW',\n",
       "   'Mean CC': 0.001653123162700152,\n",
       "   'Median CC': 0.0013899953020156917,\n",
       "   'Top 1% CC': 0.03200901955967553,\n",
       "   'Top 5% CC': 0.021303051937397215}]}"
      ]
     },
     "execution_count": 99,
     "metadata": {},
     "output_type": "execute_result"
    }
   ],
   "source": [
    "summary_store"
   ]
  },
  {
   "cell_type": "code",
   "execution_count": 100,
   "id": "f829700e-f047-410c-abfb-8fa243e03673",
   "metadata": {},
   "outputs": [],
   "source": [
    "row_order = [\"Finetuned\", \"Pretrained\", \"Encoder\", \"BoW\", \"GloVe\", \"Word2Vec\"]\n",
    "tables = {\n",
    "    subj: pd.DataFrame(summary_store[subj]).set_index(\"Model\").loc[\n",
    "        [r for r in row_order if r in summary_store[subj][0].values()]\n",
    "    ]\n",
    "    for subj in cc_store\n",
    "}"
   ]
  },
  {
   "cell_type": "code",
   "execution_count": 101,
   "id": "6e68d546-9c14-4d7d-a658-e57c9f887e3b",
   "metadata": {},
   "outputs": [
    {
     "name": "stdout",
     "output_type": "stream",
     "text": [
      "Subject 2 Comparison:\n"
     ]
    },
    {
     "data": {
      "text/html": [
       "<div>\n",
       "<style scoped>\n",
       "    .dataframe tbody tr th:only-of-type {\n",
       "        vertical-align: middle;\n",
       "    }\n",
       "\n",
       "    .dataframe tbody tr th {\n",
       "        vertical-align: top;\n",
       "    }\n",
       "\n",
       "    .dataframe thead th {\n",
       "        text-align: right;\n",
       "    }\n",
       "</style>\n",
       "<table border=\"1\" class=\"dataframe\">\n",
       "  <thead>\n",
       "    <tr style=\"text-align: right;\">\n",
       "      <th></th>\n",
       "      <th>Mean CC</th>\n",
       "      <th>Median CC</th>\n",
       "      <th>Top 1% CC</th>\n",
       "      <th>Top 5% CC</th>\n",
       "    </tr>\n",
       "    <tr>\n",
       "      <th>Model</th>\n",
       "      <th></th>\n",
       "      <th></th>\n",
       "      <th></th>\n",
       "      <th></th>\n",
       "    </tr>\n",
       "  </thead>\n",
       "  <tbody>\n",
       "    <tr>\n",
       "      <th>Finetuned</th>\n",
       "      <td>0.020627</td>\n",
       "      <td>0.015985</td>\n",
       "      <td>0.108326</td>\n",
       "      <td>0.069247</td>\n",
       "    </tr>\n",
       "  </tbody>\n",
       "</table>\n",
       "</div>"
      ],
      "text/plain": [
       "            Mean CC  Median CC  Top 1% CC  Top 5% CC\n",
       "Model                                               \n",
       "Finetuned  0.020627   0.015985   0.108326   0.069247"
      ]
     },
     "execution_count": 101,
     "metadata": {},
     "output_type": "execute_result"
    }
   ],
   "source": [
    "print(\"Subject 2 Comparison:\")\n",
    "tables[\"subject2\"]"
   ]
  },
  {
   "cell_type": "code",
   "execution_count": 102,
   "id": "b85a6a7f-9732-472d-a07a-a2563b7262fc",
   "metadata": {},
   "outputs": [
    {
     "name": "stdout",
     "output_type": "stream",
     "text": [
      "Subject 3 Comparison:\n"
     ]
    },
    {
     "data": {
      "text/html": [
       "<div>\n",
       "<style scoped>\n",
       "    .dataframe tbody tr th:only-of-type {\n",
       "        vertical-align: middle;\n",
       "    }\n",
       "\n",
       "    .dataframe tbody tr th {\n",
       "        vertical-align: top;\n",
       "    }\n",
       "\n",
       "    .dataframe thead th {\n",
       "        text-align: right;\n",
       "    }\n",
       "</style>\n",
       "<table border=\"1\" class=\"dataframe\">\n",
       "  <thead>\n",
       "    <tr style=\"text-align: right;\">\n",
       "      <th></th>\n",
       "      <th>Mean CC</th>\n",
       "      <th>Median CC</th>\n",
       "      <th>Top 1% CC</th>\n",
       "      <th>Top 5% CC</th>\n",
       "    </tr>\n",
       "    <tr>\n",
       "      <th>Model</th>\n",
       "      <th></th>\n",
       "      <th></th>\n",
       "      <th></th>\n",
       "      <th></th>\n",
       "    </tr>\n",
       "  </thead>\n",
       "  <tbody>\n",
       "    <tr>\n",
       "      <th>Finetuned</th>\n",
       "      <td>0.005947</td>\n",
       "      <td>0.005888</td>\n",
       "      <td>0.045137</td>\n",
       "      <td>0.031242</td>\n",
       "    </tr>\n",
       "  </tbody>\n",
       "</table>\n",
       "</div>"
      ],
      "text/plain": [
       "            Mean CC  Median CC  Top 1% CC  Top 5% CC\n",
       "Model                                               \n",
       "Finetuned  0.005947   0.005888   0.045137   0.031242"
      ]
     },
     "execution_count": 102,
     "metadata": {},
     "output_type": "execute_result"
    }
   ],
   "source": [
    "print(\"Subject 3 Comparison:\")\n",
    "tables[\"subject3\"]"
   ]
  },
  {
   "cell_type": "code",
   "execution_count": 45,
   "id": "155d8cdb-007c-4a95-8724-378e587c8e2d",
   "metadata": {},
   "outputs": [],
   "source": [
    "def plot_cc_dist(embedding_name):\n",
    "    plt.figure(figsize=(8,6))\n",
    "    plt.hist(cc_store[\"subject2\"][embedding_name], bins=50, edgecolor='black', alpha=0.7)\n",
    "    plt.title(f\"Distribution of Voxel-wise Test CCs ({embedding_name}) [Subject 2]\")\n",
    "    plt.xlabel(\"Correlation Coefficient (CC)\")\n",
    "    plt.ylabel(\"Number of Voxels\")\n",
    "    plt.grid(True)\n",
    "    plt.savefig(f'cc_dist_{embedding_name}', dpi=400)\n",
    "    plt.show()"
   ]
  },
  {
   "cell_type": "code",
   "execution_count": 115,
   "id": "4c9e7feb-d56a-4c04-8f5e-74a881034d84",
   "metadata": {},
   "outputs": [
    {
     "data": {
      "image/png": "[encoded data removed]",
      "text/plain": [
       "<Figure size 800x600 with 1 Axes>"
      ]
     },
     "metadata": {},
     "output_type": "display_data"
    }
   ],
   "source": [
    "plot_cc_dist('Word2Vec')"
   ]
  },
  {
   "cell_type": "code",
   "execution_count": 116,
   "id": "df3d158a-e09e-446d-9bd9-5b5dc98471ab",
   "metadata": {},
   "outputs": [
    {
     "data": {
      "image/png": "[encoded data removed]",
      "text/plain": [
       "<Figure size 800x600 with 1 Axes>"
      ]
     },
     "metadata": {},
     "output_type": "display_data"
    }
   ],
   "source": [
    "plot_cc_dist('GloVe')"
   ]
  },
  {
   "cell_type": "code",
   "execution_count": 117,
   "id": "3ebb4e32-b34f-496b-a0d2-f86afe2b767e",
   "metadata": {},
   "outputs": [
    {
     "data": {
      "image/png": "[encoded data removed]",
      "text/plain": [
       "<Figure size 800x600 with 1 Axes>"
      ]
     },
     "metadata": {},
     "output_type": "display_data"
    }
   ],
   "source": [
    "plot_cc_dist('BoW')"
   ]
  },
  {
   "cell_type": "code",
   "execution_count": 55,
   "id": "e525a978-eb7a-4016-8065-2a098e9be117",
   "metadata": {},
   "outputs": [
    {
     "data": {
      "image/png": "[encoded data removed]",
      "text/plain": [
       "<Figure size 800x600 with 1 Axes>"
      ]
     },
     "metadata": {},
     "output_type": "display_data"
    }
   ],
   "source": [
    "plot_cc_dist('Encoder')"
   ]
  },
  {
   "cell_type": "code",
   "execution_count": null,
   "id": "094920b9-86de-4f90-a653-1531abe52b19",
   "metadata": {},
   "outputs": [],
   "source": []
  },
  {
   "cell_type": "code",
   "execution_count": null,
   "id": "a2346b77-15c5-4ea5-93d4-1ce0dc73226a",
   "metadata": {},
   "outputs": [],
   "source": []
  }
 ],
 "metadata": {
  "kernelspec": {
   "display_name": "Python 3",
   "language": "python",
   "name": "python3"
  },
  "language_info": {
   "codemirror_mode": {
    "name": "ipython",
    "version": 3
   },
   "file_extension": ".py",
   "mimetype": "text/x-python",
   "name": "python",
   "nbconvert_exporter": "python",
   "pygments_lexer": "ipython3",
   "version": "3.12.7"
  }
 },
 "nbformat": 4,
 "nbformat_minor": 5
}
