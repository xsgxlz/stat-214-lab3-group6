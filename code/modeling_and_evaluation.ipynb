{
 "cells": [
  {
   "cell_type": "code",
   "execution_count": 1,
   "id": "93d1d171-ff11-485d-b848-c6ff4cb1011f",
   "metadata": {},
   "outputs": [
    {
     "name": "stdout",
     "output_type": "stream",
     "text": [
      "Defaulting to user installation because normal site-packages is not writeable\n",
      "Requirement already satisfied: staticvectors in ./.local/lib/python3.12/site-packages (0.2.0)\n",
      "Requirement already satisfied: huggingface-hub>=0.19.0 in ./.local/lib/python3.12/site-packages (from staticvectors) (0.30.2)\n",
      "Requirement already satisfied: numpy>=1.18.4 in /opt/packages/anaconda3-2024.10-1/lib/python3.12/site-packages (from staticvectors) (1.26.4)\n",
      "Requirement already satisfied: safetensors>=0.4.5 in ./.local/lib/python3.12/site-packages (from staticvectors) (0.5.3)\n",
      "Requirement already satisfied: tqdm>=4.48.0 in /opt/packages/anaconda3-2024.10-1/lib/python3.12/site-packages (from staticvectors) (4.66.5)\n",
      "Requirement already satisfied: filelock in /opt/packages/anaconda3-2024.10-1/lib/python3.12/site-packages (from huggingface-hub>=0.19.0->staticvectors) (3.13.1)\n",
      "Requirement already satisfied: fsspec>=2023.5.0 in /opt/packages/anaconda3-2024.10-1/lib/python3.12/site-packages (from huggingface-hub>=0.19.0->staticvectors) (2024.6.1)\n",
      "Requirement already satisfied: packaging>=20.9 in /opt/packages/anaconda3-2024.10-1/lib/python3.12/site-packages (from huggingface-hub>=0.19.0->staticvectors) (24.1)\n",
      "Requirement already satisfied: pyyaml>=5.1 in /opt/packages/anaconda3-2024.10-1/lib/python3.12/site-packages (from huggingface-hub>=0.19.0->staticvectors) (6.0.1)\n",
      "Requirement already satisfied: requests in /opt/packages/anaconda3-2024.10-1/lib/python3.12/site-packages (from huggingface-hub>=0.19.0->staticvectors) (2.32.3)\n",
      "Requirement already satisfied: typing-extensions>=3.7.4.3 in ./.local/lib/python3.12/site-packages (from huggingface-hub>=0.19.0->staticvectors) (4.12.2)\n",
      "Requirement already satisfied: charset-normalizer<4,>=2 in /opt/packages/anaconda3-2024.10-1/lib/python3.12/site-packages (from requests->huggingface-hub>=0.19.0->staticvectors) (3.3.2)\n",
      "Requirement already satisfied: idna<4,>=2.5 in /opt/packages/anaconda3-2024.10-1/lib/python3.12/site-packages (from requests->huggingface-hub>=0.19.0->staticvectors) (3.7)\n",
      "Requirement already satisfied: urllib3<3,>=1.21.1 in /opt/packages/anaconda3-2024.10-1/lib/python3.12/site-packages (from requests->huggingface-hub>=0.19.0->staticvectors) (2.2.3)\n",
      "Requirement already satisfied: certifi>=2017.4.17 in /opt/packages/anaconda3-2024.10-1/lib/python3.12/site-packages (from requests->huggingface-hub>=0.19.0->staticvectors) (2024.8.30)\n"
     ]
    }
   ],
   "source": [
    "!pip install staticvectors"
   ]
  },
  {
   "cell_type": "code",
   "execution_count": 2,
   "id": "af0a264a-e3ea-486a-8548-278bd7287193",
   "metadata": {},
   "outputs": [],
   "source": [
    "import os\n",
    "import sys\n",
    "import pickle\n",
    "\n",
    "import numpy as np\n",
    "from sklearn.model_selection import train_test_split\n",
    "import sklearn.preprocessing # For StandardScaler\n",
    "import sklearn.decomposition # For PCA\n",
    "import matplotlib.pyplot as plt\n",
    "from staticvectors import StaticVectors # Already imported above\n",
    "\n",
    "sys.path.append('code')\n",
    "sys.path.append(\"/jet/home/azhang19/stat 214/stat-214-lab3-group6/code\")\n",
    "\n",
    "import word_embedding # Imports the classes defined above if they are in word_embedding.py\n",
    "\n",
    "# Define the base path for data access\n",
    "data_path = '/ocean/projects/mth240012p/shared/data' # Path where data files are stored"
   ]
  },
  {
   "cell_type": "code",
   "execution_count": 3,
   "id": "69738772-56df-49a0-a1eb-f5c4ba66bb76",
   "metadata": {},
   "outputs": [],
   "source": [
    "# %% Load preprocessed word sequences (likely includes words and their timings)\n",
    "with open(f'{data_path}/raw_text.pkl', 'rb') as file:\n",
    "    wordseqs = pickle.load(file) # wordseqs is expected to be a dictionary: {story_id: WordSequenceObject}\n",
    "\n",
    "# %% Get list of story identifiers and split into training and testing sets\n",
    "# Assumes story data for 'subject2' exists and filenames are story IDs + '.npy'\n",
    "stories = [i[:-4] for i in os.listdir(f'{data_path}/subject2')] # Extract story IDs from filenames\n",
    "# Split stories into train and test sets with a fixed random state for reproducibility\n",
    "\n",
    "\n",
    "# First, use 60% for training and 40% for the remaining data.\n",
    "train_stories, temp_stories = train_test_split(stories, train_size=0.6, random_state=214)\n",
    "# Then split the remaining 40% equally to get 20% validation and 20% test.\n",
    "val_stories, test_stories = train_test_split(temp_stories, train_size=0.5, random_state=214)\n",
    "\n",
    "#train, test = train[:10], test[:10] # For testing purposes, limit to first 10 stories in each set"
   ]
  },
  {
   "cell_type": "code",
   "execution_count": 4,
   "id": "ce743dea-3aa0-4658-944e-dae2052d338f",
   "metadata": {},
   "outputs": [],
   "source": [
    "class SafeStaticVectorsModel(word_embedding.StaticVectorsModel):\n",
    "    \"\"\"\n",
    "    A safe wrapper around StaticVectorsModel that returns a zero vector\n",
    "    for tokens not found in the pre-trained vocabulary to avoid negative seed errors.\n",
    "    \"\"\"\n",
    "    def transform(self, text):\n",
    "        \"\"\"\n",
    "        Transforms a list of words into a matrix of word embeddings.\n",
    "        For unknown words (not in the vocabulary), returns a zero vector.\n",
    "        \n",
    "        Args:\n",
    "            text (list): A list of tokens (words).\n",
    "        \n",
    "        Returns:\n",
    "            np.ndarray: A 2D array with one row per token.\n",
    "        \"\"\"\n",
    "        embeddings_list = []\n",
    "        # Loop over tokens in the text\n",
    "        for token in text:\n",
    "            # Check if token exists in the pre-trained model's tokens dictionary\n",
    "            if token in self.model.tokens:\n",
    "                # Retrieve the embedding; self.model.embeddings() returns an array of shape (1, dim)\n",
    "                emb = self.model.embeddings([token])\n",
    "                embeddings_list.append(emb[0])\n",
    "            else:\n",
    "                # If token is unknown, return a zero vector (avoid calling generate() which can yield a negative seed)\n",
    "                dim = self.model.config[\"dim\"]\n",
    "                embeddings_list.append(np.zeros(dim))\n",
    "        return np.array(embeddings_list)"
   ]
  },
  {
   "cell_type": "code",
   "execution_count": 5,
   "id": "ffa236f9-7721-4e37-ab48-28a487b57b51",
   "metadata": {},
   "outputs": [
    {
     "name": "stdout",
     "output_type": "stream",
     "text": [
      "BoW feature shapes:\n",
      "  X_train_bow: (20263, 19540)\n",
      "  X_val_bow: (7064, 19540)\n",
      "  X_test_bow: (7459, 19540)\n"
     ]
    }
   ],
   "source": [
    "# Bag of Words\n",
    "# 1. Fit a Bag-of-Words model on training stories.\n",
    "bow_model = word_embedding.BagofWords().fit(\n",
    "    [wordseqs[story].data for story in train_stories]\n",
    ")\n",
    "\n",
    "# 2. Create an aggregator to downsample, apply delays (TRs 1-4), standardize, and trim the first 5 and last 10 timepoints.\n",
    "bow_aggregator = word_embedding.embeddings_aggregator(\n",
    "    delays=range(1, 5),\n",
    "    standardize=True,\n",
    "    trim_range=(5, -10)\n",
    ")\n",
    "\n",
    "# 3. Generate downsampled BoW embeddings for all stories (train + validation + test).\n",
    "all_stories = train_stories + val_stories + test_stories\n",
    "bow_embedding = word_embedding.embed_sentences(all_stories, wordseqs, bow_model)\n",
    "\n",
    "# 4. Aggregate features for each split.\n",
    "X_train_bow = bow_aggregator.fit_transform(train_stories, bow_embedding)\n",
    "X_val_bow   = bow_aggregator.transform(val_stories, bow_embedding)\n",
    "X_test_bow  = bow_aggregator.transform(test_stories, bow_embedding)\n",
    "\n",
    "print(\"BoW feature shapes:\")\n",
    "print(\"  X_train_bow:\", X_train_bow.shape)\n",
    "print(\"  X_val_bow:\", X_val_bow.shape)\n",
    "print(\"  X_test_bow:\", X_test_bow.shape)"
   ]
  },
  {
   "cell_type": "code",
   "execution_count": 6,
   "id": "fd22bbc5-de55-4c1c-aec8-118aed83c1d3",
   "metadata": {},
   "outputs": [
    {
     "name": "stdout",
     "output_type": "stream",
     "text": [
      "Word2Vec feature shapes:\n",
      "  X_train_w2v: (20263, 1200)\n",
      "  X_val_w2v: (7064, 1200)\n",
      "  X_test_w2v: (7459, 1200)\n"
     ]
    }
   ],
   "source": [
    "# %% Word2Vec Feature Engineering Pipeline\n",
    "\n",
    "# 1. Load pre-trained Word2Vec model\n",
    "w2v_model_path = '/jet/home/azhang19/stat 214/stat-214-lab3-group6/data/word2vec' # Path to Word2Vec model\n",
    "w2v_model = SafeStaticVectorsModel(w2v_model_path)\n",
    "w2v_aggregator = word_embedding.embeddings_aggregator(\n",
    "    delays=range(1, 5),\n",
    "    standardize=True,\n",
    "    trim_range=(5, -10)\n",
    ")\n",
    "w2v_embedding = word_embedding.embed_sentences(all_stories, wordseqs, w2v_model)\n",
    "X_train_w2v = w2v_aggregator.fit_transform(train_stories, w2v_embedding)\n",
    "X_val_w2v   = w2v_aggregator.transform(val_stories, w2v_embedding)\n",
    "X_test_w2v  = w2v_aggregator.transform(test_stories, w2v_embedding)\n",
    "\n",
    "print(\"Word2Vec feature shapes:\")\n",
    "print(\"  X_train_w2v:\", X_train_w2v.shape)\n",
    "print(\"  X_val_w2v:\", X_val_w2v.shape)\n",
    "print(\"  X_test_w2v:\", X_test_w2v.shape)"
   ]
  },
  {
   "cell_type": "code",
   "execution_count": 7,
   "id": "19b79271-97fb-4b82-9545-be7c7d728cae",
   "metadata": {},
   "outputs": [
    {
     "name": "stdout",
     "output_type": "stream",
     "text": [
      "GloVe feature shapes:\n",
      "  X_train_glove: (20263, 1200)\n",
      "  X_val_glove: (7064, 1200)\n",
      "  X_test_glove: (7459, 1200)\n"
     ]
    }
   ],
   "source": [
    "#GloVe\n",
    "\n",
    "# 1. Load pre-trained GloVe model\n",
    "glove_model_path = '/jet/home/azhang19/stat 214/stat-214-lab3-group6/data/glove-6B' # Path to GloVe model\n",
    "glove_model = SafeStaticVectorsModel(glove_model_path)\n",
    "glove_aggregator = word_embedding.embeddings_aggregator(\n",
    "    delays=range(1, 5),\n",
    "    standardize=True,\n",
    "    trim_range=(5, -10)\n",
    ")\n",
    "glove_embedding = word_embedding.embed_sentences(all_stories, wordseqs, glove_model)\n",
    "X_train_glove = glove_aggregator.fit_transform(train_stories, glove_embedding)\n",
    "X_val_glove   = glove_aggregator.transform(val_stories, glove_embedding)\n",
    "X_test_glove  = glove_aggregator.transform(test_stories, glove_embedding)\n",
    "\n",
    "print(\"GloVe feature shapes:\")\n",
    "print(\"  X_train_glove:\", X_train_glove.shape)\n",
    "print(\"  X_val_glove:\", X_val_glove.shape)\n",
    "print(\"  X_test_glove:\", X_test_glove.shape)"
   ]
  },
  {
   "cell_type": "code",
   "execution_count": 8,
   "id": "822eb368-1ddc-4f83-998b-b140e1eb3a12",
   "metadata": {},
   "outputs": [],
   "source": [
    "# %% Define a function to load fMRI data for specified stories and subjects\n",
    "def load_fmri_data(stories, data_path):\n",
    "    \"\"\"\n",
    "    Loads fMRI data (.npy files) for given stories and subjects.\n",
    "\n",
    "    Args:\n",
    "        stories (list): List of story identifiers to load fMRI data for.\n",
    "        data_path (str): Base path where subject fMRI data is stored (e.g., data_path/subject_id/story_id.npy).\n",
    "\n",
    "    Returns:\n",
    "        dict: A nested dictionary `{subject_id: {story_id: fmri_data_array}}`.\n",
    "    \"\"\"\n",
    "    subjects = ['subject2', 'subject3'] # List of subjects to load data for\n",
    "    fmri_data = {} # Outer dictionary {subject: {story: data}}\n",
    "    for subject in subjects:\n",
    "        subject_dict = {} # Inner dictionary {story: data} for the current subject\n",
    "        for story in stories:\n",
    "            # Construct the full path to the fMRI data file\n",
    "            file_path = os.path.join(data_path, subject, f'{story}.npy')\n",
    "            # Load the NumPy array from the file\n",
    "            data = np.load(file_path)\n",
    "            subject_dict[story] = data # Store data in the inner dictionary\n",
    "        fmri_data[subject] = subject_dict # Store the subject's data dictionary\n",
    "    return fmri_data"
   ]
  },
  {
   "cell_type": "code",
   "execution_count": 9,
   "id": "1d62442d-b7bf-47cd-84f0-c9c1523c7a3a",
   "metadata": {},
   "outputs": [],
   "source": [
    "fmri_data = load_fmri_data(all_stories, data_path)"
   ]
  },
  {
   "cell_type": "code",
   "execution_count": 10,
   "id": "452b5759-342c-467f-a3cd-0f385ccfeca1",
   "metadata": {},
   "outputs": [
    {
     "name": "stdout",
     "output_type": "stream",
     "text": [
      "fMRI Data Shapes for subject2:\n",
      "  Y_train: (20263, 94251)\n",
      "  Y_val: (7064, 94251)\n",
      "  Y_test: (7459, 94251)\n"
     ]
    }
   ],
   "source": [
    "def get_fmri_data(stories, fmri_data):\n",
    "    \"\"\"\n",
    "    Concatenates fMRI data across specified stories for each subject.\n",
    "    Returns a dictionary: {subject: concatenated_fmri_array}.\n",
    "    \"\"\"\n",
    "    out_dict = {}\n",
    "    for subj in fmri_data.keys():\n",
    "        concatenated = np.concatenate(\n",
    "            [fmri_data[subj][st] for st in stories], axis=0\n",
    "        )\n",
    "        out_dict[subj] = concatenated\n",
    "    return out_dict\n",
    "\n",
    "# Get concatenated fMRI responses per subject for each split.\n",
    "fmri_train = get_fmri_data(train_stories, fmri_data)\n",
    "fmri_val   = get_fmri_data(val_stories, fmri_data)\n",
    "fmri_test  = get_fmri_data(test_stories, fmri_data)\n",
    "\n",
    "def pad_nan_to_mean(data):\n",
    "    \"\"\"Replace NaN values in a NumPy array with the overall mean of the non-NaN values.\"\"\"\n",
    "    mean_val = np.nanmean(data)\n",
    "    return np.nan_to_num(data, nan=mean_val)\n",
    "\n",
    "# Apply NaN padding to fMRI data for each subject and split.\n",
    "for subj in fmri_train:\n",
    "    fmri_train[subj] = pad_nan_to_mean(fmri_train[subj])\n",
    "for subj in fmri_val:\n",
    "    fmri_val[subj] = pad_nan_to_mean(fmri_val[subj])\n",
    "for subj in fmri_test:\n",
    "    fmri_test[subj] = pad_nan_to_mean(fmri_test[subj])\n",
    "\n",
    "# For modeling, we select one subject's data (e.g., subject2)\n",
    "Y_train = fmri_train['subject2']  # fMRI responses for training\n",
    "Y_val   = fmri_val['subject2']    # validation responses\n",
    "Y_test  = fmri_test['subject2']   # test responses\n",
    "\n",
    "print(\"fMRI Data Shapes for subject2:\")\n",
    "print(\"  Y_train:\", Y_train.shape)\n",
    "print(\"  Y_val:\", Y_val.shape)\n",
    "print(\"  Y_test:\", Y_test.shape)"
   ]
  },
  {
   "cell_type": "code",
   "execution_count": 11,
   "id": "5d274034-e1e4-43b6-b613-5fadd2b5bf61",
   "metadata": {},
   "outputs": [],
   "source": [
    "import numpy as np\n",
    "from scipy.stats import pearsonr\n",
    "\n",
    "def voxel_correlation(y_true, y_pred):\n",
    "    \"\"\"\n",
    "    Computes voxel-wise Pearson correlation coefficients.\n",
    "    \n",
    "    Args:\n",
    "        y_true (np.ndarray): True fMRI responses (the dim is [n_timepoints, n_voxels])\n",
    "        y_pred (np.ndarray): Predicted fMRI responses\n",
    "        \n",
    "    Return:\n",
    "        np.ndarray: 1D array with the correlation coefficient for each voxel.\n",
    "    \"\"\"\n",
    "    n_voxels = y_true.shape[1]\n",
    "    cc = np.zeros(n_voxels)\n",
    "    for v in range(n_voxels):\n",
    "        #avoid division by 0\n",
    "        if np.std(y_true[:, v]) < 1e-6 or np.std(y_pred[:, v]) < 1e-6:\n",
    "            cc[v] = 0\n",
    "        else:\n",
    "            cc[v] = pearsonr(y_true[:, v], y_pred[:, v])[0]\n",
    "    return cc\n",
    "\n",
    "embeddings = {\n",
    "    'Word2Vec': {'X_train': X_train_w2v, 'X_val': X_val_w2v, 'X_test': X_test_w2v},\n",
    "    'GloVe': {'X_train': X_train_glove, 'X_val': X_val_glove, 'X_test': X_test_glove},\n",
    "    'BoW': {'X_train': X_train_bow, 'X_val': X_val_bow, 'X_test': X_test_bow},\n",
    "}\n"
   ]
  },
  {
   "cell_type": "code",
   "execution_count": 12,
   "id": "ca4e64ba-0a18-4a81-b0f7-ea04ded66ab8",
   "metadata": {},
   "outputs": [
    {
     "name": "stdout",
     "output_type": "stream",
     "text": [
      "\n",
      "Evaluating embedding method: Word2Vec\n",
      "  Alpha:    0.1 | Mean CC: 0.0035 | Median CC: 0.0032 | Top1 CC: 0.0462 | Top5 CC: 0.0325\n",
      "  Alpha:      1 | Mean CC: 0.0036 | Median CC: 0.0032 | Top1 CC: 0.0462 | Top5 CC: 0.0325\n",
      "  Alpha:     10 | Mean CC: 0.0036 | Median CC: 0.0032 | Top1 CC: 0.0463 | Top5 CC: 0.0325\n",
      "  Alpha:    100 | Mean CC: 0.0039 | Median CC: 0.0035 | Top1 CC: 0.0470 | Top5 CC: 0.0330\n",
      "  Alpha:   1000 | Mean CC: 0.0057 | Median CC: 0.0051 | Top1 CC: 0.0518 | Top5 CC: 0.0364\n",
      "Best alpha for Word2Vec: 1000 (Mean CV CC = 0.0057)\n",
      "\n",
      "Evaluating embedding method: GloVe\n",
      "  Alpha:    0.1 | Mean CC: 0.0048 | Median CC: 0.0044 | Top1 CC: 0.0474 | Top5 CC: 0.0337\n",
      "  Alpha:      1 | Mean CC: 0.0048 | Median CC: 0.0044 | Top1 CC: 0.0474 | Top5 CC: 0.0337\n",
      "  Alpha:     10 | Mean CC: 0.0050 | Median CC: 0.0046 | Top1 CC: 0.0479 | Top5 CC: 0.0341\n",
      "  Alpha:    100 | Mean CC: 0.0055 | Median CC: 0.0051 | Top1 CC: 0.0496 | Top5 CC: 0.0352\n",
      "  Alpha:   1000 | Mean CC: 0.0067 | Median CC: 0.0060 | Top1 CC: 0.0535 | Top5 CC: 0.0377\n",
      "Best alpha for GloVe: 1000 (Mean CV CC = 0.0067)\n",
      "\n",
      "Evaluating embedding method: BoW\n",
      "  Alpha:    0.1 | Mean CC: 0.0063 | Median CC: 0.0062 | Top1 CC: 0.0451 | Top5 CC: 0.0338\n",
      "  Alpha:      1 | Mean CC: 0.0084 | Median CC: 0.0082 | Top1 CC: 0.0486 | Top5 CC: 0.0368\n",
      "  Alpha:     10 | Mean CC: 0.0098 | Median CC: 0.0095 | Top1 CC: 0.0514 | Top5 CC: 0.0392\n",
      "  Alpha:    100 | Mean CC: 0.0141 | Median CC: 0.0135 | Top1 CC: 0.0614 | Top5 CC: 0.0476\n",
      "  Alpha:   1000 | Mean CC: 0.0230 | Median CC: 0.0213 | Top1 CC: 0.0851 | Top5 CC: 0.0676\n",
      "Best alpha for BoW: 1000 (Mean CV CC = 0.0230)\n"
     ]
    }
   ],
   "source": [
    "from sklearn.linear_model import Ridge\n",
    "from sklearn.model_selection import KFold\n",
    "\n",
    "#regularization hyperparameter values to test\n",
    "alpha_values = [0.1, 1, 10, 100, 1000]\n",
    "\n",
    "#kfold cv\n",
    "kf = KFold(n_splits=5, shuffle=True, random_state=214)\n",
    "\n",
    "cv_results = {}\n",
    "\n",
    "for emb_name, data in embeddings.items():\n",
    "    print(f\"\\nEvaluating embedding method: {emb_name}\")\n",
    "    #use embedding\n",
    "    X_train = data['X_train']\n",
    "    cv_results[emb_name] = {}\n",
    "\n",
    "    for alpha in alpha_values:\n",
    "        fold_metrics = {'mean_cc': [], 'median_cc': [], 'top1_cc': [], 'top5_cc': []}\n",
    "        for train_idx, val_idx in kf.split(X_train):\n",
    "            X_cv_train, X_cv_val = X_train[train_idx], X_train[val_idx]\n",
    "            Y_cv_train, Y_cv_val = Y_train[train_idx], Y_train[val_idx]\n",
    "            \n",
    "            #fit model\n",
    "            model = Ridge(alpha=alpha)\n",
    "            model.fit(X_cv_train, Y_cv_train)\n",
    "            Y_cv_pred = model.predict(X_cv_val)\n",
    "            \n",
    "            #cc\n",
    "            cc = voxel_correlation(Y_cv_val, Y_cv_pred)\n",
    "            fold_metrics['mean_cc'].append(np.mean(cc))\n",
    "            fold_metrics['median_cc'].append(np.median(cc))\n",
    "            fold_metrics['top1_cc'].append(np.percentile(cc, 99))\n",
    "            fold_metrics['top5_cc'].append(np.percentile(cc, 95))\n",
    "        \n",
    "        avg_mean_cc = np.mean(fold_metrics['mean_cc'])\n",
    "        avg_median_cc = np.mean(fold_metrics['median_cc'])\n",
    "        avg_top1_cc = np.mean(fold_metrics['top1_cc'])\n",
    "        avg_top5_cc = np.mean(fold_metrics['top5_cc'])\n",
    "        \n",
    "        cv_results[emb_name][alpha] = {\n",
    "            'mean_cc': avg_mean_cc,\n",
    "            'median_cc': avg_median_cc,\n",
    "            'top1_cc': avg_top1_cc,\n",
    "            'top5_cc': avg_top5_cc\n",
    "        }\n",
    "        \n",
    "        print(f\"  Alpha: {alpha:>6} | Mean CC: {avg_mean_cc:.4f} | Median CC: {avg_median_cc:.4f} | Top1 CC: {avg_top1_cc:.4f} | Top5 CC: {avg_top5_cc:.4f}\")\n",
    "    \n",
    "    #best alpha is based on highest mean CC.\n",
    "    best_alpha = max(alpha_values, key=lambda a: cv_results[emb_name][a]['mean_cc'])\n",
    "    cv_results[emb_name]['best_alpha'] = best_alpha\n",
    "    print(f\"Best alpha for {emb_name}: {best_alpha} (Mean CV CC = {cv_results[emb_name][best_alpha]['mean_cc']:.4f})\")\n"
   ]
  },
  {
   "cell_type": "code",
   "execution_count": 13,
   "id": "4bd496a2-dcb4-47c8-b079-278eeec873f9",
   "metadata": {},
   "outputs": [
    {
     "name": "stdout",
     "output_type": "stream",
     "text": [
      "\n",
      "Best overall embedding method: BoW (Mean CV CC = 0.0230)\n",
      "Training final Ridge model with alpha=1000 for BoW\n",
      "\n",
      "Final Test Set Performance:\n",
      "  Mean CC:       0.0009\n",
      "  Median CC:     0.0009\n",
      "  Top 1 Percentile CC: 0.0311\n",
      "  Top 5 Percentile CC: 0.0215\n",
      "Final model saved to 'final_ridge_model.pkl'\n"
     ]
    }
   ],
   "source": [
    "#get best result\n",
    "best_embedding_method = None\n",
    "overall_best_mean_cc = -np.inf\n",
    "\n",
    "for emb_name in ['BoW', 'Word2Vec', 'GloVe']:\n",
    "    best_alpha = cv_results[emb_name]['best_alpha']\n",
    "    mean_cv_cc = cv_results[emb_name][best_alpha]['mean_cc']\n",
    "    if mean_cv_cc > overall_best_mean_cc:\n",
    "        overall_best_mean_cc = mean_cv_cc\n",
    "        best_embedding_method = emb_name\n",
    "\n",
    "print(f\"\\nBest overall embedding method: {best_embedding_method} (Mean CV CC = {overall_best_mean_cc:.4f})\")\n",
    "\n",
    "#train final model on the full training set\n",
    "best_alpha = cv_results[best_embedding_method]['best_alpha']\n",
    "print(f\"Training final Ridge model with alpha={best_alpha} for {best_embedding_method}\")\n",
    "\n",
    "final_model = Ridge(alpha=best_alpha)\n",
    "X_train_best = embeddings[best_embedding_method]['X_train']\n",
    "final_model.fit(X_train_best, Y_train)\n",
    "\n",
    "#test set performance\n",
    "X_test_best = embeddings[best_embedding_method]['X_test']\n",
    "Y_test_pred = final_model.predict(X_test_best)\n",
    "cc_test = voxel_correlation(Y_test, Y_test_pred)\n",
    "\n",
    "test_mean_cc = np.mean(cc_test)\n",
    "test_median_cc = np.median(cc_test)\n",
    "test_top1_cc = np.percentile(cc_test, 99)\n",
    "test_top5_cc = np.percentile(cc_test, 95)\n",
    "\n",
    "print(\"\\nFinal Test Set Performance:\")\n",
    "print(f\"  Mean CC:       {test_mean_cc:.4f}\")\n",
    "print(f\"  Median CC:     {test_median_cc:.4f}\")\n",
    "print(f\"  Top 1 Percentile CC: {test_top1_cc:.4f}\")\n",
    "print(f\"  Top 5 Percentile CC: {test_top5_cc:.4f}\")\n",
    "\n",
    "#save model\n",
    "import pickle\n",
    "\n",
    "model_filename = 'final_ridge_model.pkl'\n",
    "with open(model_filename, 'wb') as f:\n",
    "    pickle.dump(final_model, f)\n",
    "\n",
    "print(f\"Final model saved to '{model_filename}'\")\n"
   ]
  },
  {
   "cell_type": "markdown",
   "id": "37c9995b-6c38-4f4f-877e-0a4a7031aecf",
   "metadata": {},
   "source": [
    "We are looking at the distribution of the CC across voxels. From the voxel correlation function, we generate a list of CCs, one for each voxel. So, to visualize this, each of these CCs is one data point in the boxplot/histogram, so we can see how the CC is distributed across voxels. We are looking to see how differently correlated some voxels are from others, if they all have similar correlations, if there is a skew/outlier voxels, etc."
   ]
  },
  {
   "cell_type": "code",
   "execution_count": 14,
   "id": "f12739f7-a38e-4e3b-98d3-ae36f199a8c1",
   "metadata": {},
   "outputs": [
    {
     "data": {
      "image/png": "[encoded data removed]",
      "text/plain": [
       "<Figure size 800x600 with 1 Axes>"
      ]
     },
     "metadata": {},
     "output_type": "display_data"
    }
   ],
   "source": [
    "import matplotlib.pyplot as plt\n",
    "\n",
    "plt.figure(figsize=(8, 6))\n",
    "plt.hist(cc_test, bins=50, edgecolor='black', alpha=0.7)\n",
    "plt.title(\"Distribution of Voxel-wise Test CCs (BoW)\")\n",
    "plt.xlabel(\"Correlation Coefficient (CC)\")\n",
    "plt.ylabel(\"Number of Voxels\")\n",
    "plt.grid(True)\n",
    "plt.show()\n"
   ]
  },
  {
   "cell_type": "code",
   "execution_count": 13,
   "id": "c467b6f6-60df-4813-961a-a860eeb3da66",
   "metadata": {},
   "outputs": [
    {
     "name": "stdout",
     "output_type": "stream",
     "text": [
      "Model loaded from 'final_ridge_model.pkl'\n"
     ]
    }
   ],
   "source": [
    "model_filename = 'final_ridge_model.pkl'\n",
    "with open(model_filename, 'rb') as f:\n",
    "    loaded_model = pickle.load(f)\n",
    "    \n",
    "print(f\"Model loaded from '{model_filename}'\")"
   ]
  },
  {
   "cell_type": "code",
   "execution_count": null,
   "id": "0f7c2a0f-0e69-4ded-bc17-07a7f22bc620",
   "metadata": {},
   "outputs": [],
   "source": [
    "#test preds\n",
    "X_test_best = embeddings['BoW']['X_test']\n",
    "Y_test_pred = loaded_model.predict(X_test_best)\n",
    "\n",
    "#voxel wise CC\n",
    "cc_test = voxel_correlation(Y_test, Y_test_pred)"
   ]
  },
  {
   "cell_type": "code",
   "execution_count": null,
   "id": "4c95be3f-c5b6-457f-824e-b339007bc94d",
   "metadata": {},
   "outputs": [
    {
     "data": {
      "image/png": "[encoded data removed]",
      "text/plain": [
       "<Figure size 600x800 with 1 Axes>"
      ]
     },
     "metadata": {},
     "output_type": "display_data"
    }
   ],
   "source": [
    "#dist of CC across voxels\n",
    "plt.figure(figsize=(6, 8))\n",
    "plt.boxplot(cc_test, vert=True, patch_artist=True)\n",
    "plt.title(\"Distribution of CC Across Voxels - Subject 2\")\n",
    "plt.ylabel(\"Correlation Coefficient (CC)\")\n",
    "plt.xticks([1], ['Voxels'])\n",
    "plt.grid(True)\n",
    "plt.show()"
   ]
  },
  {
   "cell_type": "markdown",
   "id": "31e4030e",
   "metadata": {},
   "source": [
    "## Subject 3 Modeling"
   ]
  },
  {
   "cell_type": "code",
   "execution_count": null,
   "id": "9f27fc73-8f9d-42b0-b3bc-99cccada7dbb",
   "metadata": {},
   "outputs": [
    {
     "name": "stdout",
     "output_type": "stream",
     "text": [
      "Using best alpha = 1000 for subject3 model training based on previous CV results.\n",
      "Final model for subject3 trained.\n",
      "\n",
      "Subject 3 Final Test Set Performance:\n",
      "  Mean CC:             0.0017\n",
      "  Median CC:           0.0014\n",
      "  Top 1 Percentile CC: 0.0320\n",
      "  Top 5 Percentile CC: 0.0213\n"
     ]
    },
    {
     "ename": "OSError",
     "evalue": "[Errno 122] Disk quota exceeded",
     "output_type": "error",
     "traceback": [
      "\u001b[0;31m---------------------------------------------------------------------------\u001b[0m",
      "\u001b[0;31mOSError\u001b[0m                                   Traceback (most recent call last)",
      "Cell \u001b[0;32mIn[16], line 55\u001b[0m\n\u001b[1;32m     53\u001b[0m model_filename_subj3 \u001b[38;5;241m=\u001b[39m \u001b[38;5;124m'\u001b[39m\u001b[38;5;124mfinal_ridge_model_subject3.pkl\u001b[39m\u001b[38;5;124m'\u001b[39m\n\u001b[1;32m     54\u001b[0m \u001b[38;5;28;01mwith\u001b[39;00m \u001b[38;5;28mopen\u001b[39m(model_filename_subj3, \u001b[38;5;124m'\u001b[39m\u001b[38;5;124mwb\u001b[39m\u001b[38;5;124m'\u001b[39m) \u001b[38;5;28;01mas\u001b[39;00m f:\n\u001b[0;32m---> 55\u001b[0m     pickle\u001b[38;5;241m.\u001b[39mdump(final_model_subj3, f)\n\u001b[1;32m     56\u001b[0m \u001b[38;5;28mprint\u001b[39m(\u001b[38;5;124mf\u001b[39m\u001b[38;5;124m\"\u001b[39m\u001b[38;5;124mSubject 3 final model saved to \u001b[39m\u001b[38;5;124m'\u001b[39m\u001b[38;5;132;01m{\u001b[39;00mmodel_filename_subj3\u001b[38;5;132;01m}\u001b[39;00m\u001b[38;5;124m'\u001b[39m\u001b[38;5;124m\"\u001b[39m)\n",
      "\u001b[0;31mOSError\u001b[0m: [Errno 122] Disk quota exceeded"
     ]
    }
   ],
   "source": [
    "\n",
    "best_embedding_method = \"BoW\"\n",
    "best_alpha = 1000\n",
    "\n",
    "print(f\"Using best alpha = {best_alpha} for subject3 model training based on previous CV results.\")\n",
    "\n",
    "X_train_best = embeddings[best_embedding_method]['X_train']\n",
    "\n",
    "#subject 3 training set\n",
    "Y_train_subject3 = fmri_train['subject3']\n",
    "\n",
    "#train Ridge model for subject 3 (separate from subject 2)\n",
    "final_model_subj3 = Ridge(alpha=best_alpha)\n",
    "final_model_subj3.fit(X_train_best, Y_train_subject3)\n",
    "print(\"Final model for subject3 trained.\")\n",
    "\n",
    "X_test_best = embeddings[best_embedding_method]['X_test']\n",
    "Y_test_subject3 = fmri_test['subject3']\n",
    "Y_test_pred_subj3 = final_model_subj3.predict(X_test_best)\n",
    "\n",
    "#voxel wise CC\n",
    "cc_test_subj3 = voxel_correlation(Y_test_subject3, Y_test_pred_subj3)\n",
    "\n",
    "test_mean_cc_subj3   = np.mean(cc_test_subj3)\n",
    "test_median_cc_subj3 = np.median(cc_test_subj3)\n",
    "test_top1_cc_subj3   = np.percentile(cc_test_subj3, 99)\n",
    "test_top5_cc_subj3   = np.percentile(cc_test_subj3, 95)\n",
    "\n",
    "print(\"\\nSubject 3 Final Test Set Performance:\")\n",
    "print(f\"  Mean CC:             {test_mean_cc_subj3:.4f}\")\n",
    "print(f\"  Median CC:           {test_median_cc_subj3:.4f}\")\n",
    "print(f\"  Top 1 Percentile CC: {test_top1_cc_subj3:.4f}\")\n",
    "print(f\"  Top 5 Percentile CC: {test_top5_cc_subj3:.4f}\")\n",
    "\n",
    "#save the model for subject3\n",
    "model_filename_subj3 = 'final_ridge_model_subject3.pkl'\n",
    "with open(model_filename_subj3, 'wb') as f:\n",
    "    pickle.dump(final_model_subj3, f)\n",
    "print(f\"Subject 3 final model saved to '{model_filename_subj3}'\")\n"
   ]
  },
  {
   "cell_type": "code",
   "execution_count": null,
   "id": "a5c95d70-6022-476a-9998-f2d72d1796d7",
   "metadata": {},
   "outputs": [
    {
     "data": {
      "image/png": "[encoded data removed]",
      "text/plain": [
       "<Figure size 600x800 with 1 Axes>"
      ]
     },
     "metadata": {},
     "output_type": "display_data"
    }
   ],
   "source": [
    "import matplotlib.pyplot as plt\n",
    "\n",
    "#CC across voxels for subject 3\n",
    "plt.figure(figsize=(6, 8))\n",
    "plt.boxplot(cc_test_subj3, vert=True, patch_artist=True)\n",
    "plt.title(\"Distribution of CC Across Voxels - Subject 3\")\n",
    "plt.ylabel(\"Correlation Coefficient (CC)\")\n",
    "plt.xticks([1], ['Subject 3 Voxels'])\n",
    "plt.grid(True)\n",
    "plt.show()"
   ]
  },
  {
   "cell_type": "code",
   "execution_count": null,
   "id": "b02e7a71-1dd7-4e41-b525-0c8142854008",
   "metadata": {},
   "outputs": [],
   "source": []
  }
 ],
 "metadata": {
  "kernelspec": {
   "display_name": "Python 3 (ipykernel)",
   "language": "python",
   "name": "python3"
  },
  "language_info": {
   "codemirror_mode": {
    "name": "ipython",
    "version": 3
   },
   "file_extension": ".py",
   "mimetype": "text/x-python",
   "name": "python",
   "nbconvert_exporter": "python",
   "pygments_lexer": "ipython3",
   "version": "3.12.7"
  }
 },
 "nbformat": 4,
 "nbformat_minor": 5
}
