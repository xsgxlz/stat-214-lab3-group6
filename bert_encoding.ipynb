{
 "cells": [
  {
   "cell_type": "code",
   "execution_count": null,
   "id": "df7324d0",
   "metadata": {},
   "outputs": [],
   "source": [
    "for story in stories:\n",
    "    test = [i.tolist() for i in wordseqs[story].chunks()]\n",
    "    test = [' '.join(i).strip() for i in test]\n",
    "    a = sum(tokenizer(test, add_special_tokens=False)['input_ids'], [])\n",
    "    b = tokenizer(' '.join(wordseqs[story].data).strip(), add_special_tokens=False)['input_ids']\n",
    "    print(a==b)"
   ]
  }
 ],
 "metadata": {
  "language_info": {
   "name": "python"
  }
 },
 "nbformat": 4,
 "nbformat_minor": 5
}
